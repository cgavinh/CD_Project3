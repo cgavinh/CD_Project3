{
 "cells": [
  {
   "cell_type": "markdown",
   "id": "887a9aee-6104-4eb4-8dfb-554aba82a522",
   "metadata": {},
   "source": [
    "# Goals:\n",
    "- Global Goal: Study characteristics of successful movies in the US\n",
    "- Local Goal: Combine data files from TMDB query into single dataset and perform exploratory analysis\n",
    "\n",
    "# Data Description\n",
    "- results from TMDB query are in individual .csv files sorted by movie year.\n",
    "- There are different versions included in the data folder. The relevant files have the format ```'Data/final_tmdb_data_*.0.csv.gz'```"
   ]
  },
  {
   "cell_type": "markdown",
   "id": "cf013b4a-500d-4688-baed-4e5c9f97c165",
   "metadata": {},
   "source": [
    "# Deliverables\n",
    "- Single .csv file including all data from TMDB query as well as exploratory analysis results\n",
    "\n",
    "# EDA Foci\n",
    "    - How many movies had at least some valid financial information (values > 0 for budget OR revenue)?\n",
    "        - exclude any movies with 0's for budget AND revenue from the remaining visualizations.\n",
    "    - How many movies are there in each of the certification categories (G/PG/PG-13/R)?\n",
    "    - What is the average revenue per certification category?\n",
    "    - What is the average budget per certification category?"
   ]
  },
  {
   "cell_type": "markdown",
   "id": "4f8b067a-f5c0-4a52-a506-39876c6f00fb",
   "metadata": {},
   "source": [
    "# Import and Load"
   ]
  },
  {
   "cell_type": "code",
   "execution_count": 29,
   "id": "e7b13731-dd05-4d9d-9f18-247021febdca",
   "metadata": {},
   "outputs": [],
   "source": [
    "import os, glob\n",
    "import pandas as pd\n",
    "import numpy as np\n"
   ]
  },
  {
   "cell_type": "markdown",
   "id": "5f1c93a3-63c2-498a-b65a-c2d172a75882",
   "metadata": {
    "tags": []
   },
   "source": [
    "# Concatenate TMDB results to database"
   ]
  },
  {
   "cell_type": "code",
   "execution_count": 5,
   "id": "8d913a3a-b41d-4a3f-99dd-0c52d14ce5e7",
   "metadata": {},
   "outputs": [
    {
     "data": {
      "text/plain": [
       "['tmdb_api_results_2017.0.json',\n",
       " 'final_tmdb_data_2005.0.csv.gz',\n",
       " 'final_tmdb_data_2004.0.csv.gz',\n",
       " 'tmdb_api_results_2009.0.json',\n",
       " 'tmdb_api_results_2005.0.json',\n",
       " 'tmdb_api_results_2021.0.json',\n",
       " 'tmdb_api_results_2019.0.json',\n",
       " 'final_tmdb_data_2018.0.csv.gz',\n",
       " 'final_tmdb_data_2019.0.csv.gz',\n",
       " 'tmdb_api_results_2007.0.json',\n",
       " 'tmdb_api_results_2015.0.json',\n",
       " 'final_tmdb_data_2012.0.csv.gz',\n",
       " 'final_tmdb_data_2013.0.csv.gz',\n",
       " 'final_tmdb_data_2021.0.csv.gz',\n",
       " 'final_tmdb_data_2020.0.csv.gz',\n",
       " 'tmdb_api_results_2011.0.json',\n",
       " 'tmdb_api_results_2003.0.json',\n",
       " 'final_tmdb_data_2015.0.csv.gz',\n",
       " 'final_tmdb_data_2014.0.csv.gz',\n",
       " 'basics.csv.gz',\n",
       " 'tmdb_api_results_2000.json',\n",
       " 'final_tmdb_data_2000.csv.gz',\n",
       " 'final_tmdb_data_2008.0.csv.gz',\n",
       " 'final_tmdb_data_2009.0.csv.gz',\n",
       " 'tmdb_api_results_2001.json',\n",
       " 'ratings.csv.gz',\n",
       " 'final_tmdb_data_2002.0.csv.gz',\n",
       " 'final_tmdb_data_2003.0.csv.gz',\n",
       " 'tmdb_api_results_2001.0.json',\n",
       " 'tmdb_api_results_2013.0.json',\n",
       " 'final_tmdb_data_2011.0.csv.gz',\n",
       " 'final_tmdb_data_2010.0.csv.gz',\n",
       " 'tmdb_api_results_2020.0.json',\n",
       " 'tmdb_api_results_2008.0.json',\n",
       " 'tmdb_api_results_2016.0.json',\n",
       " 'tmdb_api_results_2004.0.json',\n",
       " 'final_tmdb_data_2006.0.csv.gz',\n",
       " 'final_tmdb_data_2007.0.csv.gz',\n",
       " 'tmdb_api_results_2022.0.json',\n",
       " 'akas.csv.gz',\n",
       " 'tmdb_api_results_2006.0.json',\n",
       " 'tmdb_api_results_2018.0.json',\n",
       " 'tmdb_api_results_2014.0.json',\n",
       " 'final_tmdb_data_2001.csv.gz',\n",
       " '.ipynb_checkpoints',\n",
       " 'final_tmdb_data_2001.0.csv.gz',\n",
       " 'final_tmdb_data_2000.0.csv.gz',\n",
       " 'tmdb_api_results_2010.0.json',\n",
       " 'tmdb_api_results_2002.0.json',\n",
       " 'tmdb_api_results_2000.0.json',\n",
       " 'final_tmdb_data_2016.0.csv.gz',\n",
       " 'final_tmdb_data_2017.0.csv.gz',\n",
       " 'tmdb_api_results_2012.0.json',\n",
       " 'final_tmdb_data_2022.0.csv.gz']"
      ]
     },
     "execution_count": 5,
     "metadata": {},
     "output_type": "execute_result"
    }
   ],
   "source": [
    "FOLDER = \"Data/\"\n",
    "os.makedirs(FOLDER, exist_ok=True)\n",
    "os.listdir(FOLDER)"
   ]
  },
  {
   "cell_type": "code",
   "execution_count": 12,
   "id": "9e310f0f-f2fb-4206-bbcf-03d11d6012e5",
   "metadata": {},
   "outputs": [],
   "source": [
    "csv_files = glob.glob('Data/final_tmdb_data_*.0.csv.gz')"
   ]
  },
  {
   "cell_type": "code",
   "execution_count": 13,
   "id": "0aca2af6-a440-4b11-be93-311f8c8269a1",
   "metadata": {},
   "outputs": [
    {
     "data": {
      "text/plain": [
       "['Data/final_tmdb_data_2005.0.csv.gz',\n",
       " 'Data/final_tmdb_data_2004.0.csv.gz',\n",
       " 'Data/final_tmdb_data_2018.0.csv.gz',\n",
       " 'Data/final_tmdb_data_2019.0.csv.gz',\n",
       " 'Data/final_tmdb_data_2012.0.csv.gz',\n",
       " 'Data/final_tmdb_data_2013.0.csv.gz',\n",
       " 'Data/final_tmdb_data_2021.0.csv.gz',\n",
       " 'Data/final_tmdb_data_2020.0.csv.gz',\n",
       " 'Data/final_tmdb_data_2015.0.csv.gz',\n",
       " 'Data/final_tmdb_data_2014.0.csv.gz',\n",
       " 'Data/final_tmdb_data_2008.0.csv.gz',\n",
       " 'Data/final_tmdb_data_2009.0.csv.gz',\n",
       " 'Data/final_tmdb_data_2002.0.csv.gz',\n",
       " 'Data/final_tmdb_data_2003.0.csv.gz',\n",
       " 'Data/final_tmdb_data_2011.0.csv.gz',\n",
       " 'Data/final_tmdb_data_2010.0.csv.gz',\n",
       " 'Data/final_tmdb_data_2006.0.csv.gz',\n",
       " 'Data/final_tmdb_data_2007.0.csv.gz',\n",
       " 'Data/final_tmdb_data_2001.0.csv.gz',\n",
       " 'Data/final_tmdb_data_2000.0.csv.gz',\n",
       " 'Data/final_tmdb_data_2016.0.csv.gz',\n",
       " 'Data/final_tmdb_data_2017.0.csv.gz',\n",
       " 'Data/final_tmdb_data_2022.0.csv.gz']"
      ]
     },
     "execution_count": 13,
     "metadata": {},
     "output_type": "execute_result"
    }
   ],
   "source": [
    "csv_files"
   ]
  },
  {
   "cell_type": "code",
   "execution_count": 19,
   "id": "5b6766a7-cbd6-4409-8dd3-e12b77524dc6",
   "metadata": {},
   "outputs": [
    {
     "name": "stdout",
     "output_type": "stream",
     "text": [
      "Data/final_tmdb_data_2005.0.csv.gz\n",
      "Data/final_tmdb_data_2004.0.csv.gz\n",
      "Data/final_tmdb_data_2018.0.csv.gz\n",
      "Data/final_tmdb_data_2019.0.csv.gz\n",
      "Data/final_tmdb_data_2012.0.csv.gz\n",
      "Data/final_tmdb_data_2013.0.csv.gz\n",
      "Data/final_tmdb_data_2021.0.csv.gz\n",
      "Data/final_tmdb_data_2020.0.csv.gz\n",
      "Data/final_tmdb_data_2015.0.csv.gz\n",
      "Data/final_tmdb_data_2014.0.csv.gz\n",
      "Data/final_tmdb_data_2008.0.csv.gz\n",
      "Data/final_tmdb_data_2009.0.csv.gz\n",
      "Data/final_tmdb_data_2002.0.csv.gz\n",
      "Data/final_tmdb_data_2003.0.csv.gz\n",
      "Data/final_tmdb_data_2011.0.csv.gz\n",
      "Data/final_tmdb_data_2010.0.csv.gz\n",
      "Data/final_tmdb_data_2006.0.csv.gz\n",
      "Data/final_tmdb_data_2007.0.csv.gz\n",
      "Data/final_tmdb_data_2001.0.csv.gz\n",
      "Data/final_tmdb_data_2000.0.csv.gz\n",
      "Data/final_tmdb_data_2016.0.csv.gz\n",
      "Data/final_tmdb_data_2017.0.csv.gz\n",
      "Data/final_tmdb_data_2022.0.csv.gz\n"
     ]
    }
   ],
   "source": [
    "for f in csv_files:\n",
    "    print(f)\n",
    "    result = pd.read_csv(f,lineterminator='\\n')"
   ]
  },
  {
   "cell_type": "code",
   "execution_count": 20,
   "id": "f5bc7513-e586-4f3b-8d04-74258f100a43",
   "metadata": {},
   "outputs": [],
   "source": [
    "tmdb_results_df = pd.concat((pd.read_csv(f, lineterminator='\\n') for f in csv_files), ignore_index=True)"
   ]
  },
  {
   "cell_type": "code",
   "execution_count": 21,
   "id": "a06d6488-db27-4ef9-a738-b704e5472a8e",
   "metadata": {},
   "outputs": [
    {
     "data": {
      "text/html": [
       "<div>\n",
       "<style scoped>\n",
       "    .dataframe tbody tr th:only-of-type {\n",
       "        vertical-align: middle;\n",
       "    }\n",
       "\n",
       "    .dataframe tbody tr th {\n",
       "        vertical-align: top;\n",
       "    }\n",
       "\n",
       "    .dataframe thead th {\n",
       "        text-align: right;\n",
       "    }\n",
       "</style>\n",
       "<table border=\"1\" class=\"dataframe\">\n",
       "  <thead>\n",
       "    <tr style=\"text-align: right;\">\n",
       "      <th></th>\n",
       "      <th>imdb_id</th>\n",
       "      <th>adult</th>\n",
       "      <th>backdrop_path</th>\n",
       "      <th>belongs_to_collection</th>\n",
       "      <th>budget</th>\n",
       "      <th>genres</th>\n",
       "      <th>homepage</th>\n",
       "      <th>id</th>\n",
       "      <th>original_language</th>\n",
       "      <th>original_title</th>\n",
       "      <th>...</th>\n",
       "      <th>revenue</th>\n",
       "      <th>runtime</th>\n",
       "      <th>spoken_languages</th>\n",
       "      <th>status</th>\n",
       "      <th>tagline</th>\n",
       "      <th>title</th>\n",
       "      <th>video</th>\n",
       "      <th>vote_average</th>\n",
       "      <th>vote_count</th>\n",
       "      <th>certification</th>\n",
       "    </tr>\n",
       "  </thead>\n",
       "  <tbody>\n",
       "    <tr>\n",
       "      <th>0</th>\n",
       "      <td>0</td>\n",
       "      <td>NaN</td>\n",
       "      <td>NaN</td>\n",
       "      <td>NaN</td>\n",
       "      <td>NaN</td>\n",
       "      <td>NaN</td>\n",
       "      <td>NaN</td>\n",
       "      <td>NaN</td>\n",
       "      <td>NaN</td>\n",
       "      <td>NaN</td>\n",
       "      <td>...</td>\n",
       "      <td>NaN</td>\n",
       "      <td>NaN</td>\n",
       "      <td>NaN</td>\n",
       "      <td>NaN</td>\n",
       "      <td>NaN</td>\n",
       "      <td>NaN</td>\n",
       "      <td>NaN</td>\n",
       "      <td>NaN</td>\n",
       "      <td>NaN</td>\n",
       "      <td>NaN</td>\n",
       "    </tr>\n",
       "    <tr>\n",
       "      <th>1</th>\n",
       "      <td>tt0088751</td>\n",
       "      <td>0.0</td>\n",
       "      <td>NaN</td>\n",
       "      <td>NaN</td>\n",
       "      <td>350000.0</td>\n",
       "      <td>[{'id': 35, 'name': 'Comedy'}, {'id': 27, 'nam...</td>\n",
       "      <td>NaN</td>\n",
       "      <td>29163.0</td>\n",
       "      <td>en</td>\n",
       "      <td>The Naked Monster</td>\n",
       "      <td>...</td>\n",
       "      <td>0.0</td>\n",
       "      <td>100.0</td>\n",
       "      <td>[{'english_name': 'English', 'iso_639_1': 'en'...</td>\n",
       "      <td>Released</td>\n",
       "      <td>NaN</td>\n",
       "      <td>The Naked Monster</td>\n",
       "      <td>0.0</td>\n",
       "      <td>3.400</td>\n",
       "      <td>5.0</td>\n",
       "      <td>NaN</td>\n",
       "    </tr>\n",
       "    <tr>\n",
       "      <th>2</th>\n",
       "      <td>tt0118141</td>\n",
       "      <td>0.0</td>\n",
       "      <td>/unoJZwLGTlzKc3QkvsERVPLRnFH.jpg</td>\n",
       "      <td>NaN</td>\n",
       "      <td>0.0</td>\n",
       "      <td>[{'id': 18, 'name': 'Drama'}, {'id': 14, 'name...</td>\n",
       "      <td>http://www.crispinglover.com/whatisit.htm</td>\n",
       "      <td>54506.0</td>\n",
       "      <td>en</td>\n",
       "      <td>What Is It?</td>\n",
       "      <td>...</td>\n",
       "      <td>0.0</td>\n",
       "      <td>72.0</td>\n",
       "      <td>[{'english_name': 'English', 'iso_639_1': 'en'...</td>\n",
       "      <td>Released</td>\n",
       "      <td>The adventures of a young man whose principle ...</td>\n",
       "      <td>What Is It?</td>\n",
       "      <td>0.0</td>\n",
       "      <td>5.800</td>\n",
       "      <td>22.0</td>\n",
       "      <td>NC-17</td>\n",
       "    </tr>\n",
       "    <tr>\n",
       "      <th>3</th>\n",
       "      <td>tt0120667</td>\n",
       "      <td>0.0</td>\n",
       "      <td>/jkBEPKRq4HWlLwsMFMdDiYwaCle.jpg</td>\n",
       "      <td>{'id': 9744, 'name': 'Fantastic Four Collectio...</td>\n",
       "      <td>100000000.0</td>\n",
       "      <td>[{'id': 28, 'name': 'Action'}, {'id': 12, 'nam...</td>\n",
       "      <td>NaN</td>\n",
       "      <td>9738.0</td>\n",
       "      <td>en</td>\n",
       "      <td>Fantastic Four</td>\n",
       "      <td>...</td>\n",
       "      <td>333535934.0</td>\n",
       "      <td>106.0</td>\n",
       "      <td>[{'english_name': 'English', 'iso_639_1': 'en'...</td>\n",
       "      <td>Released</td>\n",
       "      <td>4 times the action. 4 times the adventure. 4 t...</td>\n",
       "      <td>Fantastic Four</td>\n",
       "      <td>0.0</td>\n",
       "      <td>5.769</td>\n",
       "      <td>8238.0</td>\n",
       "      <td>PG-13</td>\n",
       "    </tr>\n",
       "    <tr>\n",
       "      <th>4</th>\n",
       "      <td>tt0121164</td>\n",
       "      <td>0.0</td>\n",
       "      <td>/r4VumNLSafeGhlieKNhGv0BQ4UD.jpg</td>\n",
       "      <td>NaN</td>\n",
       "      <td>40000000.0</td>\n",
       "      <td>[{'id': 10749, 'name': 'Romance'}, {'id': 14, ...</td>\n",
       "      <td>http://corpsebridemovie.warnerbros.com/</td>\n",
       "      <td>3933.0</td>\n",
       "      <td>en</td>\n",
       "      <td>Corpse Bride</td>\n",
       "      <td>...</td>\n",
       "      <td>118133252.0</td>\n",
       "      <td>77.0</td>\n",
       "      <td>[{'english_name': 'English', 'iso_639_1': 'en'...</td>\n",
       "      <td>Released</td>\n",
       "      <td>There's been a grave misunderstanding.</td>\n",
       "      <td>Corpse Bride</td>\n",
       "      <td>0.0</td>\n",
       "      <td>7.488</td>\n",
       "      <td>7411.0</td>\n",
       "      <td>NaN</td>\n",
       "    </tr>\n",
       "  </tbody>\n",
       "</table>\n",
       "<p>5 rows × 26 columns</p>\n",
       "</div>"
      ],
      "text/plain": [
       "     imdb_id  adult                     backdrop_path  \\\n",
       "0          0    NaN                               NaN   \n",
       "1  tt0088751    0.0                               NaN   \n",
       "2  tt0118141    0.0  /unoJZwLGTlzKc3QkvsERVPLRnFH.jpg   \n",
       "3  tt0120667    0.0  /jkBEPKRq4HWlLwsMFMdDiYwaCle.jpg   \n",
       "4  tt0121164    0.0  /r4VumNLSafeGhlieKNhGv0BQ4UD.jpg   \n",
       "\n",
       "                               belongs_to_collection       budget  \\\n",
       "0                                                NaN          NaN   \n",
       "1                                                NaN     350000.0   \n",
       "2                                                NaN          0.0   \n",
       "3  {'id': 9744, 'name': 'Fantastic Four Collectio...  100000000.0   \n",
       "4                                                NaN   40000000.0   \n",
       "\n",
       "                                              genres  \\\n",
       "0                                                NaN   \n",
       "1  [{'id': 35, 'name': 'Comedy'}, {'id': 27, 'nam...   \n",
       "2  [{'id': 18, 'name': 'Drama'}, {'id': 14, 'name...   \n",
       "3  [{'id': 28, 'name': 'Action'}, {'id': 12, 'nam...   \n",
       "4  [{'id': 10749, 'name': 'Romance'}, {'id': 14, ...   \n",
       "\n",
       "                                    homepage       id original_language  \\\n",
       "0                                        NaN      NaN               NaN   \n",
       "1                                        NaN  29163.0                en   \n",
       "2  http://www.crispinglover.com/whatisit.htm  54506.0                en   \n",
       "3                                        NaN   9738.0                en   \n",
       "4    http://corpsebridemovie.warnerbros.com/   3933.0                en   \n",
       "\n",
       "      original_title  ...      revenue  runtime  \\\n",
       "0                NaN  ...          NaN      NaN   \n",
       "1  The Naked Monster  ...          0.0    100.0   \n",
       "2        What Is It?  ...          0.0     72.0   \n",
       "3     Fantastic Four  ...  333535934.0    106.0   \n",
       "4       Corpse Bride  ...  118133252.0     77.0   \n",
       "\n",
       "                                    spoken_languages    status  \\\n",
       "0                                                NaN       NaN   \n",
       "1  [{'english_name': 'English', 'iso_639_1': 'en'...  Released   \n",
       "2  [{'english_name': 'English', 'iso_639_1': 'en'...  Released   \n",
       "3  [{'english_name': 'English', 'iso_639_1': 'en'...  Released   \n",
       "4  [{'english_name': 'English', 'iso_639_1': 'en'...  Released   \n",
       "\n",
       "                                             tagline              title  \\\n",
       "0                                                NaN                NaN   \n",
       "1                                                NaN  The Naked Monster   \n",
       "2  The adventures of a young man whose principle ...        What Is It?   \n",
       "3  4 times the action. 4 times the adventure. 4 t...     Fantastic Four   \n",
       "4             There's been a grave misunderstanding.       Corpse Bride   \n",
       "\n",
       "   video  vote_average vote_count certification  \n",
       "0    NaN           NaN        NaN           NaN  \n",
       "1    0.0         3.400        5.0           NaN  \n",
       "2    0.0         5.800       22.0         NC-17  \n",
       "3    0.0         5.769     8238.0         PG-13  \n",
       "4    0.0         7.488     7411.0           NaN  \n",
       "\n",
       "[5 rows x 26 columns]"
      ]
     },
     "execution_count": 21,
     "metadata": {},
     "output_type": "execute_result"
    }
   ],
   "source": [
    "tmdb_results_df.head()"
   ]
  },
  {
   "cell_type": "code",
   "execution_count": 22,
   "id": "8f3cc949-7a09-4e9b-ba43-28fc4ff90968",
   "metadata": {},
   "outputs": [
    {
     "name": "stdout",
     "output_type": "stream",
     "text": [
      "<class 'pandas.core.frame.DataFrame'>\n",
      "RangeIndex: 60706 entries, 0 to 60705\n",
      "Data columns (total 26 columns):\n",
      " #   Column                 Non-Null Count  Dtype  \n",
      "---  ------                 --------------  -----  \n",
      " 0   imdb_id                60706 non-null  object \n",
      " 1   adult                  60683 non-null  float64\n",
      " 2   backdrop_path          37940 non-null  object \n",
      " 3   belongs_to_collection  3908 non-null   object \n",
      " 4   budget                 60683 non-null  float64\n",
      " 5   genres                 60683 non-null  object \n",
      " 6   homepage               14929 non-null  object \n",
      " 7   id                     60683 non-null  float64\n",
      " 8   original_language      60683 non-null  object \n",
      " 9   original_title         60683 non-null  object \n",
      " 10  overview               59348 non-null  object \n",
      " 11  popularity             60683 non-null  float64\n",
      " 12  poster_path            55252 non-null  object \n",
      " 13  production_companies   60683 non-null  object \n",
      " 14  production_countries   60683 non-null  object \n",
      " 15  release_date           59623 non-null  object \n",
      " 16  revenue                60683 non-null  float64\n",
      " 17  runtime                60683 non-null  float64\n",
      " 18  spoken_languages       60683 non-null  object \n",
      " 19  status                 60683 non-null  object \n",
      " 20  tagline                22966 non-null  object \n",
      " 21  title                  60683 non-null  object \n",
      " 22  video                  60683 non-null  float64\n",
      " 23  vote_average           60683 non-null  float64\n",
      " 24  vote_count             60683 non-null  float64\n",
      " 25  certification          14968 non-null  object \n",
      "dtypes: float64(9), object(17)\n",
      "memory usage: 12.0+ MB\n"
     ]
    }
   ],
   "source": [
    "tmdb_results_df.info()"
   ]
  },
  {
   "cell_type": "markdown",
   "id": "4f7f9f22-c28b-4d83-b86f-1257cd892291",
   "metadata": {},
   "source": [
    "# Exploratory Analysis"
   ]
  },
  {
   "cell_type": "markdown",
   "id": "175481a8-fbea-459f-8bda-45b708327a78",
   "metadata": {},
   "source": [
    "## Movies with budget info?\n",
    "    - budget > 0 or Revenue > 0\n",
    "    - exclude those which have 0 for both"
   ]
  },
  {
   "cell_type": "code",
   "execution_count": 25,
   "id": "8f2f6ef4-1048-4370-9a59-27d200cb51ec",
   "metadata": {},
   "outputs": [],
   "source": [
    "budget_df = tmdb_results_df[(tmdb_results_df['budget'] > 0) | (tmdb_results_df['revenue'] > 0)]"
   ]
  },
  {
   "cell_type": "code",
   "execution_count": 33,
   "id": "95e6fd12-ce6f-4312-aff3-2d29dd2ce2ae",
   "metadata": {},
   "outputs": [
    {
     "data": {
      "text/plain": [
       "count    2.437000e+03\n",
       "mean     9.272926e+06\n",
       "std      3.125197e+07\n",
       "min      1.000000e+00\n",
       "25%      1.112320e+05\n",
       "50%      1.113277e+06\n",
       "75%      6.019720e+06\n",
       "max      6.862576e+08\n",
       "Name: revenue, dtype: float64"
      ]
     },
     "execution_count": 33,
     "metadata": {},
     "output_type": "execute_result"
    }
   ],
   "source": [
    "# check that all budget = 0 entries have non-zero revenues\n",
    "budget_df[budget_df['budget']==0]['revenue'].describe()"
   ]
  },
  {
   "cell_type": "code",
   "execution_count": 34,
   "id": "04b81241-68fa-41b8-b474-353f45e56f9e",
   "metadata": {},
   "outputs": [
    {
     "data": {
      "text/plain": [
       "count    6.092000e+03\n",
       "mean     3.503121e+06\n",
       "std      1.012984e+07\n",
       "min      1.000000e+00\n",
       "25%      2.500000e+04\n",
       "50%      5.000000e+05\n",
       "75%      3.000000e+06\n",
       "max      2.000000e+08\n",
       "Name: budget, dtype: float64"
      ]
     },
     "execution_count": 34,
     "metadata": {},
     "output_type": "execute_result"
    }
   ],
   "source": [
    "# and the reverse\n",
    "budget_df[budget_df['revenue']==0]['budget'].describe()"
   ]
  },
  {
   "cell_type": "markdown",
   "id": "585aea55-ea22-4b04-9b01-21557b5322c0",
   "metadata": {},
   "source": [
    "## movies in each certification?"
   ]
  },
  {
   "cell_type": "code",
   "execution_count": 37,
   "id": "95fe3a7e-c48c-49d7-87de-d9647bed2ac4",
   "metadata": {},
   "outputs": [
    {
     "data": {
      "text/plain": [
       "array([nan, 'PG-13', 'PG', 'R', 'G', 'NC-17', 'NR', 'R ', 'PG-13 ',\n",
       "       'Unrated'], dtype=object)"
      ]
     },
     "execution_count": 37,
     "metadata": {},
     "output_type": "execute_result"
    }
   ],
   "source": [
    "budget_df['certification'].unique()"
   ]
  },
  {
   "cell_type": "code",
   "execution_count": 39,
   "id": "bbe63313-9ea3-4be4-a565-bb5ae49b2a13",
   "metadata": {},
   "outputs": [
    {
     "name": "stderr",
     "output_type": "stream",
     "text": [
      "/var/folders/n1/s57pvdjj0m71q15d4zqpncv00000gn/T/ipykernel_11542/1212688946.py:1: SettingWithCopyWarning: \n",
      "A value is trying to be set on a copy of a slice from a DataFrame\n",
      "\n",
      "See the caveats in the documentation: https://pandas.pydata.org/pandas-docs/stable/user_guide/indexing.html#returning-a-view-versus-a-copy\n",
      "  budget_df.loc[:,'certification'].replace({'R ':'R'}, inplace=True)\n"
     ]
    }
   ],
   "source": [
    "budget_df.loc[:,'certification'].replace({'R ':'R'}, inplace=True)"
   ]
  },
  {
   "cell_type": "code",
   "execution_count": 40,
   "id": "2b5d4f4f-0301-46fb-be89-7f14c03c9363",
   "metadata": {},
   "outputs": [
    {
     "data": {
      "text/plain": [
       "R          3242\n",
       "PG-13      2030\n",
       "NR          952\n",
       "PG          793\n",
       "G           160\n",
       "NC-17        37\n",
       "PG-13         1\n",
       "Unrated       1\n",
       "Name: certification, dtype: int64"
      ]
     },
     "execution_count": 40,
     "metadata": {},
     "output_type": "execute_result"
    }
   ],
   "source": [
    "budget_df['certification'].value_counts()"
   ]
  },
  {
   "cell_type": "markdown",
   "id": "f6e96a94-5769-48a5-8990-48a0aa96b1bc",
   "metadata": {},
   "source": [
    "## Average revenue per certification category"
   ]
  },
  {
   "cell_type": "code",
   "execution_count": 44,
   "id": "f12f050c-82c1-4667-9e7c-8e79907fad58",
   "metadata": {},
   "outputs": [
    {
     "data": {
      "text/html": [
       "<div>\n",
       "<style scoped>\n",
       "    .dataframe tbody tr th:only-of-type {\n",
       "        vertical-align: middle;\n",
       "    }\n",
       "\n",
       "    .dataframe tbody tr th {\n",
       "        vertical-align: top;\n",
       "    }\n",
       "\n",
       "    .dataframe thead th {\n",
       "        text-align: right;\n",
       "    }\n",
       "</style>\n",
       "<table border=\"1\" class=\"dataframe\">\n",
       "  <thead>\n",
       "    <tr style=\"text-align: right;\">\n",
       "      <th></th>\n",
       "      <th>adult</th>\n",
       "      <th>budget</th>\n",
       "      <th>id</th>\n",
       "      <th>popularity</th>\n",
       "      <th>revenue</th>\n",
       "      <th>runtime</th>\n",
       "      <th>video</th>\n",
       "      <th>vote_average</th>\n",
       "      <th>vote_count</th>\n",
       "    </tr>\n",
       "    <tr>\n",
       "      <th>certification</th>\n",
       "      <th></th>\n",
       "      <th></th>\n",
       "      <th></th>\n",
       "      <th></th>\n",
       "      <th></th>\n",
       "      <th></th>\n",
       "      <th></th>\n",
       "      <th></th>\n",
       "      <th></th>\n",
       "    </tr>\n",
       "  </thead>\n",
       "  <tbody>\n",
       "    <tr>\n",
       "      <th>G</th>\n",
       "      <td>0.000000</td>\n",
       "      <td>3.217772e+07</td>\n",
       "      <td>189196.837500</td>\n",
       "      <td>31.260706</td>\n",
       "      <td>9.605117e+07</td>\n",
       "      <td>90.706250</td>\n",
       "      <td>0.000000</td>\n",
       "      <td>6.124244</td>\n",
       "      <td>1376.325000</td>\n",
       "    </tr>\n",
       "    <tr>\n",
       "      <th>NC-17</th>\n",
       "      <td>0.027027</td>\n",
       "      <td>3.209207e+06</td>\n",
       "      <td>253127.621622</td>\n",
       "      <td>14.582432</td>\n",
       "      <td>4.905780e+06</td>\n",
       "      <td>101.243243</td>\n",
       "      <td>0.000000</td>\n",
       "      <td>5.630541</td>\n",
       "      <td>509.081081</td>\n",
       "    </tr>\n",
       "    <tr>\n",
       "      <th>NR</th>\n",
       "      <td>0.001050</td>\n",
       "      <td>2.852528e+06</td>\n",
       "      <td>357739.030462</td>\n",
       "      <td>7.311978</td>\n",
       "      <td>6.383152e+06</td>\n",
       "      <td>92.137605</td>\n",
       "      <td>0.011555</td>\n",
       "      <td>4.617087</td>\n",
       "      <td>198.192227</td>\n",
       "    </tr>\n",
       "    <tr>\n",
       "      <th>PG</th>\n",
       "      <td>0.000000</td>\n",
       "      <td>4.204011e+07</td>\n",
       "      <td>184792.761665</td>\n",
       "      <td>40.360364</td>\n",
       "      <td>1.261626e+08</td>\n",
       "      <td>100.591425</td>\n",
       "      <td>0.001261</td>\n",
       "      <td>6.191763</td>\n",
       "      <td>1839.723834</td>\n",
       "    </tr>\n",
       "    <tr>\n",
       "      <th>PG-13</th>\n",
       "      <td>0.000493</td>\n",
       "      <td>4.080950e+07</td>\n",
       "      <td>168468.588177</td>\n",
       "      <td>38.308545</td>\n",
       "      <td>1.183921e+08</td>\n",
       "      <td>108.486700</td>\n",
       "      <td>0.002463</td>\n",
       "      <td>6.232267</td>\n",
       "      <td>2321.766010</td>\n",
       "    </tr>\n",
       "    <tr>\n",
       "      <th>PG-13</th>\n",
       "      <td>0.000000</td>\n",
       "      <td>0.000000e+00</td>\n",
       "      <td>262958.000000</td>\n",
       "      <td>6.042000</td>\n",
       "      <td>4.825184e+06</td>\n",
       "      <td>106.000000</td>\n",
       "      <td>0.000000</td>\n",
       "      <td>6.724000</td>\n",
       "      <td>156.000000</td>\n",
       "    </tr>\n",
       "    <tr>\n",
       "      <th>R</th>\n",
       "      <td>0.000308</td>\n",
       "      <td>1.470449e+07</td>\n",
       "      <td>178258.082973</td>\n",
       "      <td>28.040854</td>\n",
       "      <td>3.105650e+07</td>\n",
       "      <td>103.816471</td>\n",
       "      <td>0.001234</td>\n",
       "      <td>5.921849</td>\n",
       "      <td>1192.002776</td>\n",
       "    </tr>\n",
       "    <tr>\n",
       "      <th>Unrated</th>\n",
       "      <td>0.000000</td>\n",
       "      <td>2.600000e+02</td>\n",
       "      <td>407659.000000</td>\n",
       "      <td>0.600000</td>\n",
       "      <td>0.000000e+00</td>\n",
       "      <td>76.000000</td>\n",
       "      <td>0.000000</td>\n",
       "      <td>2.000000</td>\n",
       "      <td>1.000000</td>\n",
       "    </tr>\n",
       "  </tbody>\n",
       "</table>\n",
       "</div>"
      ],
      "text/plain": [
       "                  adult        budget             id  popularity  \\\n",
       "certification                                                      \n",
       "G              0.000000  3.217772e+07  189196.837500   31.260706   \n",
       "NC-17          0.027027  3.209207e+06  253127.621622   14.582432   \n",
       "NR             0.001050  2.852528e+06  357739.030462    7.311978   \n",
       "PG             0.000000  4.204011e+07  184792.761665   40.360364   \n",
       "PG-13          0.000493  4.080950e+07  168468.588177   38.308545   \n",
       "PG-13          0.000000  0.000000e+00  262958.000000    6.042000   \n",
       "R              0.000308  1.470449e+07  178258.082973   28.040854   \n",
       "Unrated        0.000000  2.600000e+02  407659.000000    0.600000   \n",
       "\n",
       "                    revenue     runtime     video  vote_average   vote_count  \n",
       "certification                                                                 \n",
       "G              9.605117e+07   90.706250  0.000000      6.124244  1376.325000  \n",
       "NC-17          4.905780e+06  101.243243  0.000000      5.630541   509.081081  \n",
       "NR             6.383152e+06   92.137605  0.011555      4.617087   198.192227  \n",
       "PG             1.261626e+08  100.591425  0.001261      6.191763  1839.723834  \n",
       "PG-13          1.183921e+08  108.486700  0.002463      6.232267  2321.766010  \n",
       "PG-13          4.825184e+06  106.000000  0.000000      6.724000   156.000000  \n",
       "R              3.105650e+07  103.816471  0.001234      5.921849  1192.002776  \n",
       "Unrated        0.000000e+00   76.000000  0.000000      2.000000     1.000000  "
      ]
     },
     "execution_count": 44,
     "metadata": {},
     "output_type": "execute_result"
    }
   ],
   "source": [
    "budget_df.groupby(['certification']).mean()"
   ]
  },
  {
   "cell_type": "markdown",
   "id": "302734fb-fc71-4851-ac3b-dc509460e4ab",
   "metadata": {},
   "source": [
    "## Average Budget per certification category"
   ]
  },
  {
   "cell_type": "markdown",
   "id": "0e4c774e-3185-46f6-bc7a-2a50227a7365",
   "metadata": {},
   "source": [
    "see above"
   ]
  },
  {
   "cell_type": "markdown",
   "id": "6d0b5410-ce57-4b9a-9e30-a8c5ca83b567",
   "metadata": {},
   "source": [
    "# Save combined data"
   ]
  },
  {
   "cell_type": "code",
   "execution_count": 45,
   "id": "b89fe982-c426-4583-9f7e-f4a0db66ff75",
   "metadata": {},
   "outputs": [],
   "source": [
    "tmdb_results_df.to_csv('Data/tmdb_results_combined.csv.gz')"
   ]
  }
 ],
 "metadata": {
  "kernelspec": {
   "display_name": "Python (dojo-env)",
   "language": "python",
   "name": "dojo-env"
  },
  "language_info": {
   "codemirror_mode": {
    "name": "ipython",
    "version": 3
   },
   "file_extension": ".py",
   "mimetype": "text/x-python",
   "name": "python",
   "nbconvert_exporter": "python",
   "pygments_lexer": "ipython3",
   "version": "3.8.8"
  }
 },
 "nbformat": 4,
 "nbformat_minor": 5
}
