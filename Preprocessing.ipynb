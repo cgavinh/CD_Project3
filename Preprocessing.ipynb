{
 "cells": [
  {
   "cell_type": "markdown",
   "id": "791194df-55a5-4464-a47f-33823ac63174",
   "metadata": {},
   "source": [
    "# Project 3 Part 1: Loading and Preprocessing"
   ]
  },
  {
   "cell_type": "code",
   "execution_count": 1,
   "id": "349dac54-7817-4ddf-9501-4a64216267ed",
   "metadata": {},
   "outputs": [],
   "source": [
    "import pandas as pd\n",
    "import numpy as np"
   ]
  },
  {
   "cell_type": "markdown",
   "id": "68c29dab-b677-4ea2-bcac-f6f4530c7ca9",
   "metadata": {
    "tags": []
   },
   "source": [
    "# Load Data"
   ]
  },
  {
   "cell_type": "code",
   "execution_count": 2,
   "id": "79df2dc4-0709-4801-a3c8-601f2bdd31d3",
   "metadata": {},
   "outputs": [],
   "source": [
    "basics_df = pd.read_csv('https://datasets.imdbws.com/title.basics.tsv.gz', sep='\\t', low_memory=False)"
   ]
  },
  {
   "cell_type": "code",
   "execution_count": 3,
   "id": "17007ff7-d71b-408a-b123-f893a8fee4e5",
   "metadata": {},
   "outputs": [],
   "source": [
    "akas_df = pd.read_csv('https://datasets.imdbws.com/title.akas.tsv.gz', sep='\\t', low_memory=False)"
   ]
  },
  {
   "cell_type": "code",
   "execution_count": 4,
   "id": "abfe2ebc-00e4-4977-86ac-c6dc07a12e2f",
   "metadata": {},
   "outputs": [],
   "source": [
    "ratings_df = pd.read_csv('https://datasets.imdbws.com/title.ratings.tsv.gz', sep='\\t', low_memory=False)"
   ]
  },
  {
   "cell_type": "markdown",
   "id": "bcdcb2a3-9c5c-47f4-a920-7b840972462f",
   "metadata": {
    "tags": []
   },
   "source": [
    "# Preprocessing basics_df"
   ]
  },
  {
   "cell_type": "code",
   "execution_count": 5,
   "id": "30466739-b79d-4620-8c75-c1a7e9289429",
   "metadata": {},
   "outputs": [
    {
     "data": {
      "text/html": [
       "<div>\n",
       "<style scoped>\n",
       "    .dataframe tbody tr th:only-of-type {\n",
       "        vertical-align: middle;\n",
       "    }\n",
       "\n",
       "    .dataframe tbody tr th {\n",
       "        vertical-align: top;\n",
       "    }\n",
       "\n",
       "    .dataframe thead th {\n",
       "        text-align: right;\n",
       "    }\n",
       "</style>\n",
       "<table border=\"1\" class=\"dataframe\">\n",
       "  <thead>\n",
       "    <tr style=\"text-align: right;\">\n",
       "      <th></th>\n",
       "      <th>tconst</th>\n",
       "      <th>titleType</th>\n",
       "      <th>primaryTitle</th>\n",
       "      <th>originalTitle</th>\n",
       "      <th>isAdult</th>\n",
       "      <th>startYear</th>\n",
       "      <th>endYear</th>\n",
       "      <th>runtimeMinutes</th>\n",
       "      <th>genres</th>\n",
       "    </tr>\n",
       "  </thead>\n",
       "  <tbody>\n",
       "    <tr>\n",
       "      <th>0</th>\n",
       "      <td>tt0000001</td>\n",
       "      <td>short</td>\n",
       "      <td>Carmencita</td>\n",
       "      <td>Carmencita</td>\n",
       "      <td>0</td>\n",
       "      <td>1894</td>\n",
       "      <td>\\N</td>\n",
       "      <td>1</td>\n",
       "      <td>Documentary,Short</td>\n",
       "    </tr>\n",
       "    <tr>\n",
       "      <th>1</th>\n",
       "      <td>tt0000002</td>\n",
       "      <td>short</td>\n",
       "      <td>Le clown et ses chiens</td>\n",
       "      <td>Le clown et ses chiens</td>\n",
       "      <td>0</td>\n",
       "      <td>1892</td>\n",
       "      <td>\\N</td>\n",
       "      <td>5</td>\n",
       "      <td>Animation,Short</td>\n",
       "    </tr>\n",
       "    <tr>\n",
       "      <th>2</th>\n",
       "      <td>tt0000003</td>\n",
       "      <td>short</td>\n",
       "      <td>Pauvre Pierrot</td>\n",
       "      <td>Pauvre Pierrot</td>\n",
       "      <td>0</td>\n",
       "      <td>1892</td>\n",
       "      <td>\\N</td>\n",
       "      <td>4</td>\n",
       "      <td>Animation,Comedy,Romance</td>\n",
       "    </tr>\n",
       "    <tr>\n",
       "      <th>3</th>\n",
       "      <td>tt0000004</td>\n",
       "      <td>short</td>\n",
       "      <td>Un bon bock</td>\n",
       "      <td>Un bon bock</td>\n",
       "      <td>0</td>\n",
       "      <td>1892</td>\n",
       "      <td>\\N</td>\n",
       "      <td>12</td>\n",
       "      <td>Animation,Short</td>\n",
       "    </tr>\n",
       "    <tr>\n",
       "      <th>4</th>\n",
       "      <td>tt0000005</td>\n",
       "      <td>short</td>\n",
       "      <td>Blacksmith Scene</td>\n",
       "      <td>Blacksmith Scene</td>\n",
       "      <td>0</td>\n",
       "      <td>1893</td>\n",
       "      <td>\\N</td>\n",
       "      <td>1</td>\n",
       "      <td>Comedy,Short</td>\n",
       "    </tr>\n",
       "  </tbody>\n",
       "</table>\n",
       "</div>"
      ],
      "text/plain": [
       "      tconst titleType            primaryTitle           originalTitle  \\\n",
       "0  tt0000001     short              Carmencita              Carmencita   \n",
       "1  tt0000002     short  Le clown et ses chiens  Le clown et ses chiens   \n",
       "2  tt0000003     short          Pauvre Pierrot          Pauvre Pierrot   \n",
       "3  tt0000004     short             Un bon bock             Un bon bock   \n",
       "4  tt0000005     short        Blacksmith Scene        Blacksmith Scene   \n",
       "\n",
       "  isAdult startYear endYear runtimeMinutes                    genres  \n",
       "0       0      1894      \\N              1         Documentary,Short  \n",
       "1       0      1892      \\N              5           Animation,Short  \n",
       "2       0      1892      \\N              4  Animation,Comedy,Romance  \n",
       "3       0      1892      \\N             12           Animation,Short  \n",
       "4       0      1893      \\N              1              Comedy,Short  "
      ]
     },
     "execution_count": 5,
     "metadata": {},
     "output_type": "execute_result"
    }
   ],
   "source": [
    "basics_df.head()"
   ]
  },
  {
   "cell_type": "markdown",
   "id": "a74b8280-2955-450e-a2f3-2f078cf335bb",
   "metadata": {
    "tags": []
   },
   "source": [
    "## Replace '/N'"
   ]
  },
  {
   "cell_type": "code",
   "execution_count": 6,
   "id": "97ca114e-7b48-43c5-9622-d58bcbe82c21",
   "metadata": {},
   "outputs": [],
   "source": [
    "basics_df.replace({'\\\\N':np.nan}, inplace=True)"
   ]
  },
  {
   "cell_type": "markdown",
   "id": "31b1cf26-b8b2-4dfa-a752-ec74ebf5ea41",
   "metadata": {},
   "source": [
    "## Eliminate entries null for runtimeMinutes or genre"
   ]
  },
  {
   "cell_type": "code",
   "execution_count": 61,
   "id": "2d96215d-7829-4f2b-b39e-0cc30818f4e9",
   "metadata": {},
   "outputs": [
    {
     "data": {
      "text/plain": [
       "tconst                  0\n",
       "titleType               0\n",
       "primaryTitle           11\n",
       "originalTitle          11\n",
       "isAdult                 1\n",
       "startYear         1229118\n",
       "endYear           9130315\n",
       "runtimeMinutes    6753522\n",
       "genres             427252\n",
       "dtype: int64"
      ]
     },
     "execution_count": 61,
     "metadata": {},
     "output_type": "execute_result"
    }
   ],
   "source": [
    "basics_df.isna().sum()"
   ]
  },
  {
   "cell_type": "code",
   "execution_count": 7,
   "id": "53f415cc-1b51-4c7d-a558-d795fd42df65",
   "metadata": {},
   "outputs": [],
   "source": [
    "basics_df.dropna(subset=['runtimeMinutes', 'genres'], inplace=True)"
   ]
  },
  {
   "cell_type": "markdown",
   "id": "445d9564-e7e7-4b44-9f93-9fcdcc00efe4",
   "metadata": {},
   "source": [
    "## Only keep if titleType==Movie"
   ]
  },
  {
   "cell_type": "code",
   "execution_count": 8,
   "id": "961a43a1-8b2c-4d38-b02f-bed30704b8bc",
   "metadata": {},
   "outputs": [
    {
     "data": {
      "text/plain": [
       "array(['short', 'movie', 'tvEpisode', 'tvSeries', 'tvShort', 'tvMovie',\n",
       "       'tvMiniSeries', 'video', 'tvSpecial', 'videoGame'], dtype=object)"
      ]
     },
     "execution_count": 8,
     "metadata": {},
     "output_type": "execute_result"
    }
   ],
   "source": [
    "basics_df['titleType'].unique()"
   ]
  },
  {
   "cell_type": "code",
   "execution_count": 9,
   "id": "94bbe5b9-6656-40cb-9556-702b12d75869",
   "metadata": {},
   "outputs": [],
   "source": [
    "basics_df = basics_df[basics_df.titleType == 'movie']"
   ]
  },
  {
   "cell_type": "markdown",
   "id": "e890132f-a230-48b8-ae6c-74dbc13e3d0d",
   "metadata": {
    "tags": []
   },
   "source": [
    "## keep startYear 2000-2022"
   ]
  },
  {
   "cell_type": "code",
   "execution_count": 10,
   "id": "bcd72b81-bae1-400f-8d18-8d0b1722f537",
   "metadata": {},
   "outputs": [],
   "source": [
    "basics_df['startYear'] = pd.to_numeric(basics_df['startYear'])"
   ]
  },
  {
   "cell_type": "code",
   "execution_count": 11,
   "id": "34b7b19e-5301-44ea-bf6e-18b5fbf7c085",
   "metadata": {},
   "outputs": [
    {
     "data": {
      "text/plain": [
       "dtype('float64')"
      ]
     },
     "execution_count": 11,
     "metadata": {},
     "output_type": "execute_result"
    }
   ],
   "source": [
    "basics_df['startYear'].dtype"
   ]
  },
  {
   "cell_type": "code",
   "execution_count": 12,
   "id": "83d079d9-78fa-460b-8a77-90660c34c2cd",
   "metadata": {},
   "outputs": [],
   "source": [
    "year_filter = (basics_df['startYear'] > 1999) & (basics_df['startYear'] < 2023)"
   ]
  },
  {
   "cell_type": "code",
   "execution_count": 13,
   "id": "e24637e1-7267-459e-b23f-f8d9e9230524",
   "metadata": {},
   "outputs": [],
   "source": [
    "basics_df = basics_df[year_filter]"
   ]
  },
  {
   "cell_type": "code",
   "execution_count": 14,
   "id": "f0cedbd4-5981-43f7-94a7-2fcc6f718280",
   "metadata": {},
   "outputs": [
    {
     "data": {
      "text/html": [
       "<div>\n",
       "<style scoped>\n",
       "    .dataframe tbody tr th:only-of-type {\n",
       "        vertical-align: middle;\n",
       "    }\n",
       "\n",
       "    .dataframe tbody tr th {\n",
       "        vertical-align: top;\n",
       "    }\n",
       "\n",
       "    .dataframe thead th {\n",
       "        text-align: right;\n",
       "    }\n",
       "</style>\n",
       "<table border=\"1\" class=\"dataframe\">\n",
       "  <thead>\n",
       "    <tr style=\"text-align: right;\">\n",
       "      <th></th>\n",
       "      <th>tconst</th>\n",
       "      <th>titleType</th>\n",
       "      <th>primaryTitle</th>\n",
       "      <th>originalTitle</th>\n",
       "      <th>isAdult</th>\n",
       "      <th>startYear</th>\n",
       "      <th>endYear</th>\n",
       "      <th>runtimeMinutes</th>\n",
       "      <th>genres</th>\n",
       "    </tr>\n",
       "  </thead>\n",
       "  <tbody>\n",
       "    <tr>\n",
       "      <th>13079</th>\n",
       "      <td>tt0013274</td>\n",
       "      <td>movie</td>\n",
       "      <td>Istoriya grazhdanskoy voyny</td>\n",
       "      <td>Istoriya grazhdanskoy voyny</td>\n",
       "      <td>0</td>\n",
       "      <td>2021.0</td>\n",
       "      <td>NaN</td>\n",
       "      <td>133</td>\n",
       "      <td>Documentary</td>\n",
       "    </tr>\n",
       "    <tr>\n",
       "      <th>34792</th>\n",
       "      <td>tt0035423</td>\n",
       "      <td>movie</td>\n",
       "      <td>Kate &amp; Leopold</td>\n",
       "      <td>Kate &amp; Leopold</td>\n",
       "      <td>0</td>\n",
       "      <td>2001.0</td>\n",
       "      <td>NaN</td>\n",
       "      <td>118</td>\n",
       "      <td>Comedy,Fantasy,Romance</td>\n",
       "    </tr>\n",
       "    <tr>\n",
       "      <th>61094</th>\n",
       "      <td>tt0062336</td>\n",
       "      <td>movie</td>\n",
       "      <td>The Tango of the Widower and Its Distorting Mi...</td>\n",
       "      <td>El Tango del Viudo y Su Espejo Deformante</td>\n",
       "      <td>0</td>\n",
       "      <td>2020.0</td>\n",
       "      <td>NaN</td>\n",
       "      <td>70</td>\n",
       "      <td>Drama</td>\n",
       "    </tr>\n",
       "    <tr>\n",
       "      <th>66309</th>\n",
       "      <td>tt0067683</td>\n",
       "      <td>movie</td>\n",
       "      <td>Workers '71: Nothing About Us Without Us</td>\n",
       "      <td>Robotnicy 1971 - Nic o nas bez nas</td>\n",
       "      <td>0</td>\n",
       "      <td>2006.0</td>\n",
       "      <td>NaN</td>\n",
       "      <td>47</td>\n",
       "      <td>Documentary</td>\n",
       "    </tr>\n",
       "    <tr>\n",
       "      <th>67640</th>\n",
       "      <td>tt0069049</td>\n",
       "      <td>movie</td>\n",
       "      <td>The Other Side of the Wind</td>\n",
       "      <td>The Other Side of the Wind</td>\n",
       "      <td>0</td>\n",
       "      <td>2018.0</td>\n",
       "      <td>NaN</td>\n",
       "      <td>122</td>\n",
       "      <td>Drama</td>\n",
       "    </tr>\n",
       "  </tbody>\n",
       "</table>\n",
       "</div>"
      ],
      "text/plain": [
       "          tconst titleType                                       primaryTitle  \\\n",
       "13079  tt0013274     movie                        Istoriya grazhdanskoy voyny   \n",
       "34792  tt0035423     movie                                     Kate & Leopold   \n",
       "61094  tt0062336     movie  The Tango of the Widower and Its Distorting Mi...   \n",
       "66309  tt0067683     movie           Workers '71: Nothing About Us Without Us   \n",
       "67640  tt0069049     movie                         The Other Side of the Wind   \n",
       "\n",
       "                                   originalTitle isAdult  startYear endYear  \\\n",
       "13079                Istoriya grazhdanskoy voyny       0     2021.0     NaN   \n",
       "34792                             Kate & Leopold       0     2001.0     NaN   \n",
       "61094  El Tango del Viudo y Su Espejo Deformante       0     2020.0     NaN   \n",
       "66309         Robotnicy 1971 - Nic o nas bez nas       0     2006.0     NaN   \n",
       "67640                 The Other Side of the Wind       0     2018.0     NaN   \n",
       "\n",
       "      runtimeMinutes                  genres  \n",
       "13079            133             Documentary  \n",
       "34792            118  Comedy,Fantasy,Romance  \n",
       "61094             70                   Drama  \n",
       "66309             47             Documentary  \n",
       "67640            122                   Drama  "
      ]
     },
     "execution_count": 14,
     "metadata": {},
     "output_type": "execute_result"
    }
   ],
   "source": [
    "basics_df.head()"
   ]
  },
  {
   "cell_type": "markdown",
   "id": "0e92e55a-59ac-4e7d-9135-29be9f9b9e1d",
   "metadata": {},
   "source": [
    "## Eliminate movies that include \"Documentary\" in genre"
   ]
  },
  {
   "cell_type": "code",
   "execution_count": 15,
   "id": "c4635072-2541-4680-9774-ca207b6496cd",
   "metadata": {},
   "outputs": [],
   "source": [
    "is_documentary = basics_df['genres'].str.contains('documentary',case=False)\n",
    "basics_df = basics_df[~is_documentary]"
   ]
  },
  {
   "cell_type": "markdown",
   "id": "c708af66-0304-4f6a-927e-4427b8112f68",
   "metadata": {},
   "source": [
    "## Keep only US movies"
   ]
  },
  {
   "cell_type": "code",
   "execution_count": 16,
   "id": "b9997d70-e966-4958-a470-fce654ed0c88",
   "metadata": {},
   "outputs": [
    {
     "data": {
      "text/html": [
       "<div>\n",
       "<style scoped>\n",
       "    .dataframe tbody tr th:only-of-type {\n",
       "        vertical-align: middle;\n",
       "    }\n",
       "\n",
       "    .dataframe tbody tr th {\n",
       "        vertical-align: top;\n",
       "    }\n",
       "\n",
       "    .dataframe thead th {\n",
       "        text-align: right;\n",
       "    }\n",
       "</style>\n",
       "<table border=\"1\" class=\"dataframe\">\n",
       "  <thead>\n",
       "    <tr style=\"text-align: right;\">\n",
       "      <th></th>\n",
       "      <th>titleId</th>\n",
       "      <th>ordering</th>\n",
       "      <th>title</th>\n",
       "      <th>region</th>\n",
       "      <th>language</th>\n",
       "      <th>types</th>\n",
       "      <th>attributes</th>\n",
       "      <th>isOriginalTitle</th>\n",
       "    </tr>\n",
       "  </thead>\n",
       "  <tbody>\n",
       "    <tr>\n",
       "      <th>0</th>\n",
       "      <td>tt0000001</td>\n",
       "      <td>1</td>\n",
       "      <td>Карменсіта</td>\n",
       "      <td>UA</td>\n",
       "      <td>\\N</td>\n",
       "      <td>imdbDisplay</td>\n",
       "      <td>\\N</td>\n",
       "      <td>0</td>\n",
       "    </tr>\n",
       "    <tr>\n",
       "      <th>1</th>\n",
       "      <td>tt0000001</td>\n",
       "      <td>2</td>\n",
       "      <td>Carmencita</td>\n",
       "      <td>DE</td>\n",
       "      <td>\\N</td>\n",
       "      <td>\\N</td>\n",
       "      <td>literal title</td>\n",
       "      <td>0</td>\n",
       "    </tr>\n",
       "    <tr>\n",
       "      <th>2</th>\n",
       "      <td>tt0000001</td>\n",
       "      <td>3</td>\n",
       "      <td>Carmencita - spanyol tánc</td>\n",
       "      <td>HU</td>\n",
       "      <td>\\N</td>\n",
       "      <td>imdbDisplay</td>\n",
       "      <td>\\N</td>\n",
       "      <td>0</td>\n",
       "    </tr>\n",
       "    <tr>\n",
       "      <th>3</th>\n",
       "      <td>tt0000001</td>\n",
       "      <td>4</td>\n",
       "      <td>Καρμενσίτα</td>\n",
       "      <td>GR</td>\n",
       "      <td>\\N</td>\n",
       "      <td>imdbDisplay</td>\n",
       "      <td>\\N</td>\n",
       "      <td>0</td>\n",
       "    </tr>\n",
       "    <tr>\n",
       "      <th>4</th>\n",
       "      <td>tt0000001</td>\n",
       "      <td>5</td>\n",
       "      <td>Карменсита</td>\n",
       "      <td>RU</td>\n",
       "      <td>\\N</td>\n",
       "      <td>imdbDisplay</td>\n",
       "      <td>\\N</td>\n",
       "      <td>0</td>\n",
       "    </tr>\n",
       "  </tbody>\n",
       "</table>\n",
       "</div>"
      ],
      "text/plain": [
       "     titleId  ordering                      title region language  \\\n",
       "0  tt0000001         1                 Карменсіта     UA       \\N   \n",
       "1  tt0000001         2                 Carmencita     DE       \\N   \n",
       "2  tt0000001         3  Carmencita - spanyol tánc     HU       \\N   \n",
       "3  tt0000001         4                 Καρμενσίτα     GR       \\N   \n",
       "4  tt0000001         5                 Карменсита     RU       \\N   \n",
       "\n",
       "         types     attributes isOriginalTitle  \n",
       "0  imdbDisplay             \\N               0  \n",
       "1           \\N  literal title               0  \n",
       "2  imdbDisplay             \\N               0  \n",
       "3  imdbDisplay             \\N               0  \n",
       "4  imdbDisplay             \\N               0  "
      ]
     },
     "execution_count": 16,
     "metadata": {},
     "output_type": "execute_result"
    }
   ],
   "source": [
    "akas_df.head()"
   ]
  },
  {
   "cell_type": "code",
   "execution_count": 17,
   "id": "eccb4357-4ef6-40cc-b68a-ac54688710e4",
   "metadata": {},
   "outputs": [],
   "source": [
    "US_filter = akas_df['region'] == 'US'\n",
    "akas_df = akas_df[US_filter]"
   ]
  },
  {
   "cell_type": "code",
   "execution_count": 18,
   "id": "f8fd9257-d5fc-46f9-8223-f917028367b4",
   "metadata": {},
   "outputs": [],
   "source": [
    "# Filter the basics table down to only include the US by using the filter akas dataframe\n",
    "keep =basics_df['tconst'].isin(akas_df['titleId'])\n",
    "basics_df = basics_df[keep]"
   ]
  },
  {
   "cell_type": "code",
   "execution_count": 19,
   "id": "0e07afa9-eab9-48c4-88ae-f590486a69e7",
   "metadata": {},
   "outputs": [
    {
     "data": {
      "text/html": [
       "<div>\n",
       "<style scoped>\n",
       "    .dataframe tbody tr th:only-of-type {\n",
       "        vertical-align: middle;\n",
       "    }\n",
       "\n",
       "    .dataframe tbody tr th {\n",
       "        vertical-align: top;\n",
       "    }\n",
       "\n",
       "    .dataframe thead th {\n",
       "        text-align: right;\n",
       "    }\n",
       "</style>\n",
       "<table border=\"1\" class=\"dataframe\">\n",
       "  <thead>\n",
       "    <tr style=\"text-align: right;\">\n",
       "      <th></th>\n",
       "      <th>tconst</th>\n",
       "      <th>titleType</th>\n",
       "      <th>primaryTitle</th>\n",
       "      <th>originalTitle</th>\n",
       "      <th>isAdult</th>\n",
       "      <th>startYear</th>\n",
       "      <th>endYear</th>\n",
       "      <th>runtimeMinutes</th>\n",
       "      <th>genres</th>\n",
       "    </tr>\n",
       "  </thead>\n",
       "  <tbody>\n",
       "    <tr>\n",
       "      <th>34792</th>\n",
       "      <td>tt0035423</td>\n",
       "      <td>movie</td>\n",
       "      <td>Kate &amp; Leopold</td>\n",
       "      <td>Kate &amp; Leopold</td>\n",
       "      <td>0</td>\n",
       "      <td>2001.0</td>\n",
       "      <td>NaN</td>\n",
       "      <td>118</td>\n",
       "      <td>Comedy,Fantasy,Romance</td>\n",
       "    </tr>\n",
       "    <tr>\n",
       "      <th>61094</th>\n",
       "      <td>tt0062336</td>\n",
       "      <td>movie</td>\n",
       "      <td>The Tango of the Widower and Its Distorting Mi...</td>\n",
       "      <td>El Tango del Viudo y Su Espejo Deformante</td>\n",
       "      <td>0</td>\n",
       "      <td>2020.0</td>\n",
       "      <td>NaN</td>\n",
       "      <td>70</td>\n",
       "      <td>Drama</td>\n",
       "    </tr>\n",
       "    <tr>\n",
       "      <th>67640</th>\n",
       "      <td>tt0069049</td>\n",
       "      <td>movie</td>\n",
       "      <td>The Other Side of the Wind</td>\n",
       "      <td>The Other Side of the Wind</td>\n",
       "      <td>0</td>\n",
       "      <td>2018.0</td>\n",
       "      <td>NaN</td>\n",
       "      <td>122</td>\n",
       "      <td>Drama</td>\n",
       "    </tr>\n",
       "    <tr>\n",
       "      <th>86771</th>\n",
       "      <td>tt0088751</td>\n",
       "      <td>movie</td>\n",
       "      <td>The Naked Monster</td>\n",
       "      <td>The Naked Monster</td>\n",
       "      <td>0</td>\n",
       "      <td>2005.0</td>\n",
       "      <td>NaN</td>\n",
       "      <td>100</td>\n",
       "      <td>Comedy,Horror,Sci-Fi</td>\n",
       "    </tr>\n",
       "    <tr>\n",
       "      <th>93907</th>\n",
       "      <td>tt0096056</td>\n",
       "      <td>movie</td>\n",
       "      <td>Crime and Punishment</td>\n",
       "      <td>Crime and Punishment</td>\n",
       "      <td>0</td>\n",
       "      <td>2002.0</td>\n",
       "      <td>NaN</td>\n",
       "      <td>126</td>\n",
       "      <td>Drama</td>\n",
       "    </tr>\n",
       "  </tbody>\n",
       "</table>\n",
       "</div>"
      ],
      "text/plain": [
       "          tconst titleType                                       primaryTitle  \\\n",
       "34792  tt0035423     movie                                     Kate & Leopold   \n",
       "61094  tt0062336     movie  The Tango of the Widower and Its Distorting Mi...   \n",
       "67640  tt0069049     movie                         The Other Side of the Wind   \n",
       "86771  tt0088751     movie                                  The Naked Monster   \n",
       "93907  tt0096056     movie                               Crime and Punishment   \n",
       "\n",
       "                                   originalTitle isAdult  startYear endYear  \\\n",
       "34792                             Kate & Leopold       0     2001.0     NaN   \n",
       "61094  El Tango del Viudo y Su Espejo Deformante       0     2020.0     NaN   \n",
       "67640                 The Other Side of the Wind       0     2018.0     NaN   \n",
       "86771                          The Naked Monster       0     2005.0     NaN   \n",
       "93907                       Crime and Punishment       0     2002.0     NaN   \n",
       "\n",
       "      runtimeMinutes                  genres  \n",
       "34792            118  Comedy,Fantasy,Romance  \n",
       "61094             70                   Drama  \n",
       "67640            122                   Drama  \n",
       "86771            100    Comedy,Horror,Sci-Fi  \n",
       "93907            126                   Drama  "
      ]
     },
     "execution_count": 19,
     "metadata": {},
     "output_type": "execute_result"
    }
   ],
   "source": [
    "basics_df.head()"
   ]
  },
  {
   "cell_type": "code",
   "execution_count": 20,
   "id": "f92a5dd5-7d58-47e9-bdf4-bdc3f198c03f",
   "metadata": {},
   "outputs": [
    {
     "data": {
      "text/html": [
       "<div>\n",
       "<style scoped>\n",
       "    .dataframe tbody tr th:only-of-type {\n",
       "        vertical-align: middle;\n",
       "    }\n",
       "\n",
       "    .dataframe tbody tr th {\n",
       "        vertical-align: top;\n",
       "    }\n",
       "\n",
       "    .dataframe thead th {\n",
       "        text-align: right;\n",
       "    }\n",
       "</style>\n",
       "<table border=\"1\" class=\"dataframe\">\n",
       "  <thead>\n",
       "    <tr style=\"text-align: right;\">\n",
       "      <th></th>\n",
       "      <th>titleId</th>\n",
       "      <th>ordering</th>\n",
       "      <th>title</th>\n",
       "      <th>region</th>\n",
       "      <th>language</th>\n",
       "      <th>types</th>\n",
       "      <th>attributes</th>\n",
       "      <th>isOriginalTitle</th>\n",
       "    </tr>\n",
       "  </thead>\n",
       "  <tbody>\n",
       "    <tr>\n",
       "      <th>5</th>\n",
       "      <td>tt0000001</td>\n",
       "      <td>6</td>\n",
       "      <td>Carmencita</td>\n",
       "      <td>US</td>\n",
       "      <td>\\N</td>\n",
       "      <td>imdbDisplay</td>\n",
       "      <td>\\N</td>\n",
       "      <td>0</td>\n",
       "    </tr>\n",
       "    <tr>\n",
       "      <th>14</th>\n",
       "      <td>tt0000002</td>\n",
       "      <td>7</td>\n",
       "      <td>The Clown and His Dogs</td>\n",
       "      <td>US</td>\n",
       "      <td>\\N</td>\n",
       "      <td>\\N</td>\n",
       "      <td>literal English title</td>\n",
       "      <td>0</td>\n",
       "    </tr>\n",
       "    <tr>\n",
       "      <th>33</th>\n",
       "      <td>tt0000005</td>\n",
       "      <td>10</td>\n",
       "      <td>Blacksmith Scene</td>\n",
       "      <td>US</td>\n",
       "      <td>\\N</td>\n",
       "      <td>imdbDisplay</td>\n",
       "      <td>\\N</td>\n",
       "      <td>0</td>\n",
       "    </tr>\n",
       "    <tr>\n",
       "      <th>36</th>\n",
       "      <td>tt0000005</td>\n",
       "      <td>1</td>\n",
       "      <td>Blacksmithing Scene</td>\n",
       "      <td>US</td>\n",
       "      <td>\\N</td>\n",
       "      <td>alternative</td>\n",
       "      <td>\\N</td>\n",
       "      <td>0</td>\n",
       "    </tr>\n",
       "    <tr>\n",
       "      <th>41</th>\n",
       "      <td>tt0000005</td>\n",
       "      <td>6</td>\n",
       "      <td>Blacksmith Scene #1</td>\n",
       "      <td>US</td>\n",
       "      <td>\\N</td>\n",
       "      <td>alternative</td>\n",
       "      <td>\\N</td>\n",
       "      <td>0</td>\n",
       "    </tr>\n",
       "    <tr>\n",
       "      <th>...</th>\n",
       "      <td>...</td>\n",
       "      <td>...</td>\n",
       "      <td>...</td>\n",
       "      <td>...</td>\n",
       "      <td>...</td>\n",
       "      <td>...</td>\n",
       "      <td>...</td>\n",
       "      <td>...</td>\n",
       "    </tr>\n",
       "    <tr>\n",
       "      <th>33301333</th>\n",
       "      <td>tt9916702</td>\n",
       "      <td>1</td>\n",
       "      <td>Loving London: The Playground</td>\n",
       "      <td>US</td>\n",
       "      <td>\\N</td>\n",
       "      <td>\\N</td>\n",
       "      <td>\\N</td>\n",
       "      <td>0</td>\n",
       "    </tr>\n",
       "    <tr>\n",
       "      <th>33301370</th>\n",
       "      <td>tt9916720</td>\n",
       "      <td>10</td>\n",
       "      <td>The Demonic Nun</td>\n",
       "      <td>US</td>\n",
       "      <td>\\N</td>\n",
       "      <td>tv</td>\n",
       "      <td>\\N</td>\n",
       "      <td>0</td>\n",
       "    </tr>\n",
       "    <tr>\n",
       "      <th>33301372</th>\n",
       "      <td>tt9916720</td>\n",
       "      <td>12</td>\n",
       "      <td>The Nun 2</td>\n",
       "      <td>US</td>\n",
       "      <td>\\N</td>\n",
       "      <td>imdbDisplay</td>\n",
       "      <td>\\N</td>\n",
       "      <td>0</td>\n",
       "    </tr>\n",
       "    <tr>\n",
       "      <th>33301389</th>\n",
       "      <td>tt9916756</td>\n",
       "      <td>1</td>\n",
       "      <td>Pretty Pretty Black Girl</td>\n",
       "      <td>US</td>\n",
       "      <td>\\N</td>\n",
       "      <td>imdbDisplay</td>\n",
       "      <td>\\N</td>\n",
       "      <td>0</td>\n",
       "    </tr>\n",
       "    <tr>\n",
       "      <th>33301405</th>\n",
       "      <td>tt9916764</td>\n",
       "      <td>1</td>\n",
       "      <td>38</td>\n",
       "      <td>US</td>\n",
       "      <td>\\N</td>\n",
       "      <td>imdbDisplay</td>\n",
       "      <td>\\N</td>\n",
       "      <td>0</td>\n",
       "    </tr>\n",
       "  </tbody>\n",
       "</table>\n",
       "<p>1353658 rows × 8 columns</p>\n",
       "</div>"
      ],
      "text/plain": [
       "            titleId  ordering                          title region language  \\\n",
       "5         tt0000001         6                     Carmencita     US       \\N   \n",
       "14        tt0000002         7         The Clown and His Dogs     US       \\N   \n",
       "33        tt0000005        10               Blacksmith Scene     US       \\N   \n",
       "36        tt0000005         1            Blacksmithing Scene     US       \\N   \n",
       "41        tt0000005         6            Blacksmith Scene #1     US       \\N   \n",
       "...             ...       ...                            ...    ...      ...   \n",
       "33301333  tt9916702         1  Loving London: The Playground     US       \\N   \n",
       "33301370  tt9916720        10                The Demonic Nun     US       \\N   \n",
       "33301372  tt9916720        12                      The Nun 2     US       \\N   \n",
       "33301389  tt9916756         1       Pretty Pretty Black Girl     US       \\N   \n",
       "33301405  tt9916764         1                             38     US       \\N   \n",
       "\n",
       "                types             attributes isOriginalTitle  \n",
       "5         imdbDisplay                     \\N               0  \n",
       "14                 \\N  literal English title               0  \n",
       "33        imdbDisplay                     \\N               0  \n",
       "36        alternative                     \\N               0  \n",
       "41        alternative                     \\N               0  \n",
       "...               ...                    ...             ...  \n",
       "33301333           \\N                     \\N               0  \n",
       "33301370           tv                     \\N               0  \n",
       "33301372  imdbDisplay                     \\N               0  \n",
       "33301389  imdbDisplay                     \\N               0  \n",
       "33301405  imdbDisplay                     \\N               0  \n",
       "\n",
       "[1353658 rows x 8 columns]"
      ]
     },
     "execution_count": 20,
     "metadata": {},
     "output_type": "execute_result"
    }
   ],
   "source": [
    "akas_df.loc[akas_df['region']=='US']"
   ]
  },
  {
   "cell_type": "markdown",
   "id": "614dfbf5-6ac5-419a-b244-e1ce3872ee86",
   "metadata": {},
   "source": [
    "# Preprocesing akas_df"
   ]
  },
  {
   "cell_type": "markdown",
   "id": "c38128f1-13b0-4d14-85d9-3d87a1a5083a",
   "metadata": {
    "tags": []
   },
   "source": [
    "## keep only US movies\n",
    "- see preprocessing basics_df"
   ]
  },
  {
   "cell_type": "markdown",
   "id": "6c7cd766-0f75-4adc-82ed-ee428bf59275",
   "metadata": {},
   "source": [
    "## Replace '/N'"
   ]
  },
  {
   "cell_type": "code",
   "execution_count": 21,
   "id": "05c88dae-8b5e-49d4-8125-e5d1bdf01f6d",
   "metadata": {},
   "outputs": [],
   "source": [
    "akas_df.replace({'\\\\N':np.nan}, inplace=True)"
   ]
  },
  {
   "cell_type": "markdown",
   "id": "d122ee06-a5bb-4471-bdfb-c664f49d2e42",
   "metadata": {
    "tags": []
   },
   "source": [
    "## Only keep akas for movies in basics"
   ]
  },
  {
   "cell_type": "code",
   "execution_count": 23,
   "id": "c5a427b9-e19b-4d43-9832-50cc449df17e",
   "metadata": {},
   "outputs": [],
   "source": [
    "# Filter the basics table down to only include the US by using the filter akas dataframe\n",
    "akas_keep =akas_df['titleId'].isin(basics_df['tconst'])\n",
    "akas_df = akas_df[akas_keep]"
   ]
  },
  {
   "cell_type": "markdown",
   "id": "3e624c8c-7cd4-4689-98d2-298c3d2f4d26",
   "metadata": {
    "tags": []
   },
   "source": [
    "## Check Duplicates"
   ]
  },
  {
   "cell_type": "code",
   "execution_count": 35,
   "id": "d50d6f56-e3a6-4e72-8e8c-e0ab605a6306",
   "metadata": {},
   "outputs": [
    {
     "data": {
      "text/plain": [
       "0"
      ]
     },
     "execution_count": 35,
     "metadata": {},
     "output_type": "execute_result"
    }
   ],
   "source": [
    "akas_df.duplicated().sum()"
   ]
  },
  {
   "cell_type": "code",
   "execution_count": 39,
   "id": "7e982772-072e-4c20-809b-623f4f367bcb",
   "metadata": {},
   "outputs": [
    {
     "data": {
      "text/plain": [
       "9533"
      ]
     },
     "execution_count": 39,
     "metadata": {},
     "output_type": "execute_result"
    }
   ],
   "source": [
    "akas_df.duplicated(subset=['titleId']).sum()"
   ]
  },
  {
   "cell_type": "code",
   "execution_count": 42,
   "id": "a54300f5-c7b9-4231-bae3-e53125da663e",
   "metadata": {},
   "outputs": [],
   "source": [
    "akas_dup_df = akas_df[akas_df.duplicated(subset=['titleId'], keep=False)]"
   ]
  },
  {
   "cell_type": "code",
   "execution_count": 43,
   "id": "0e4e7102-b3ed-4c28-9e2f-8f6d11343fa2",
   "metadata": {},
   "outputs": [
    {
     "data": {
      "text/html": [
       "<div>\n",
       "<style scoped>\n",
       "    .dataframe tbody tr th:only-of-type {\n",
       "        vertical-align: middle;\n",
       "    }\n",
       "\n",
       "    .dataframe tbody tr th {\n",
       "        vertical-align: top;\n",
       "    }\n",
       "\n",
       "    .dataframe thead th {\n",
       "        text-align: right;\n",
       "    }\n",
       "</style>\n",
       "<table border=\"1\" class=\"dataframe\">\n",
       "  <thead>\n",
       "    <tr style=\"text-align: right;\">\n",
       "      <th></th>\n",
       "      <th>titleId</th>\n",
       "      <th>ordering</th>\n",
       "      <th>title</th>\n",
       "      <th>region</th>\n",
       "      <th>language</th>\n",
       "      <th>types</th>\n",
       "      <th>attributes</th>\n",
       "      <th>isOriginalTitle</th>\n",
       "    </tr>\n",
       "  </thead>\n",
       "  <tbody>\n",
       "    <tr>\n",
       "      <th>195744</th>\n",
       "      <td>tt0035423</td>\n",
       "      <td>35</td>\n",
       "      <td>Kate and Leopold</td>\n",
       "      <td>US</td>\n",
       "      <td>NaN</td>\n",
       "      <td>NaN</td>\n",
       "      <td>alternative spelling</td>\n",
       "      <td>0</td>\n",
       "    </tr>\n",
       "    <tr>\n",
       "      <th>195746</th>\n",
       "      <td>tt0035423</td>\n",
       "      <td>37</td>\n",
       "      <td>Kate &amp; Leopold</td>\n",
       "      <td>US</td>\n",
       "      <td>NaN</td>\n",
       "      <td>imdbDisplay</td>\n",
       "      <td>NaN</td>\n",
       "      <td>0</td>\n",
       "    </tr>\n",
       "    <tr>\n",
       "      <th>709107</th>\n",
       "      <td>tt0088751</td>\n",
       "      <td>1</td>\n",
       "      <td>Attack of the B-Movie Monster</td>\n",
       "      <td>US</td>\n",
       "      <td>NaN</td>\n",
       "      <td>working</td>\n",
       "      <td>NaN</td>\n",
       "      <td>0</td>\n",
       "    </tr>\n",
       "    <tr>\n",
       "      <th>709110</th>\n",
       "      <td>tt0088751</td>\n",
       "      <td>4</td>\n",
       "      <td>The Naked Monster</td>\n",
       "      <td>US</td>\n",
       "      <td>NaN</td>\n",
       "      <td>imdbDisplay</td>\n",
       "      <td>NaN</td>\n",
       "      <td>0</td>\n",
       "    </tr>\n",
       "    <tr>\n",
       "      <th>922765</th>\n",
       "      <td>tt0113092</td>\n",
       "      <td>17</td>\n",
       "      <td>Final Encounter</td>\n",
       "      <td>US</td>\n",
       "      <td>NaN</td>\n",
       "      <td>dvd</td>\n",
       "      <td>NaN</td>\n",
       "      <td>0</td>\n",
       "    </tr>\n",
       "    <tr>\n",
       "      <th>...</th>\n",
       "      <td>...</td>\n",
       "      <td>...</td>\n",
       "      <td>...</td>\n",
       "      <td>...</td>\n",
       "      <td>...</td>\n",
       "      <td>...</td>\n",
       "      <td>...</td>\n",
       "      <td>...</td>\n",
       "    </tr>\n",
       "    <tr>\n",
       "      <th>33257920</th>\n",
       "      <td>tt9892604</td>\n",
       "      <td>4</td>\n",
       "      <td>Divine Decision: Double Down</td>\n",
       "      <td>US</td>\n",
       "      <td>NaN</td>\n",
       "      <td>NaN</td>\n",
       "      <td>new title</td>\n",
       "      <td>0</td>\n",
       "    </tr>\n",
       "    <tr>\n",
       "      <th>33265766</th>\n",
       "      <td>tt9896876</td>\n",
       "      <td>11</td>\n",
       "      <td>India Sweets and Spices</td>\n",
       "      <td>US</td>\n",
       "      <td>en</td>\n",
       "      <td>NaN</td>\n",
       "      <td>NaN</td>\n",
       "      <td>0</td>\n",
       "    </tr>\n",
       "    <tr>\n",
       "      <th>33265769</th>\n",
       "      <td>tt9896876</td>\n",
       "      <td>14</td>\n",
       "      <td>India Sweets and Spices</td>\n",
       "      <td>US</td>\n",
       "      <td>NaN</td>\n",
       "      <td>imdbDisplay</td>\n",
       "      <td>NaN</td>\n",
       "      <td>0</td>\n",
       "    </tr>\n",
       "    <tr>\n",
       "      <th>33297081</th>\n",
       "      <td>tt9913936</td>\n",
       "      <td>2</td>\n",
       "      <td>Diego's Paradise</td>\n",
       "      <td>US</td>\n",
       "      <td>NaN</td>\n",
       "      <td>alternative</td>\n",
       "      <td>NaN</td>\n",
       "      <td>0</td>\n",
       "    </tr>\n",
       "    <tr>\n",
       "      <th>33297083</th>\n",
       "      <td>tt9913936</td>\n",
       "      <td>4</td>\n",
       "      <td>Paradise</td>\n",
       "      <td>US</td>\n",
       "      <td>NaN</td>\n",
       "      <td>imdbDisplay</td>\n",
       "      <td>NaN</td>\n",
       "      <td>0</td>\n",
       "    </tr>\n",
       "  </tbody>\n",
       "</table>\n",
       "<p>16707 rows × 8 columns</p>\n",
       "</div>"
      ],
      "text/plain": [
       "            titleId  ordering                          title region language  \\\n",
       "195744    tt0035423        35               Kate and Leopold     US      NaN   \n",
       "195746    tt0035423        37                 Kate & Leopold     US      NaN   \n",
       "709107    tt0088751         1  Attack of the B-Movie Monster     US      NaN   \n",
       "709110    tt0088751         4              The Naked Monster     US      NaN   \n",
       "922765    tt0113092        17                Final Encounter     US      NaN   \n",
       "...             ...       ...                            ...    ...      ...   \n",
       "33257920  tt9892604         4   Divine Decision: Double Down     US      NaN   \n",
       "33265766  tt9896876        11        India Sweets and Spices     US       en   \n",
       "33265769  tt9896876        14        India Sweets and Spices     US      NaN   \n",
       "33297081  tt9913936         2               Diego's Paradise     US      NaN   \n",
       "33297083  tt9913936         4                       Paradise     US      NaN   \n",
       "\n",
       "                types            attributes isOriginalTitle  \n",
       "195744            NaN  alternative spelling               0  \n",
       "195746    imdbDisplay                   NaN               0  \n",
       "709107        working                   NaN               0  \n",
       "709110    imdbDisplay                   NaN               0  \n",
       "922765            dvd                   NaN               0  \n",
       "...               ...                   ...             ...  \n",
       "33257920          NaN             new title               0  \n",
       "33265766          NaN                   NaN               0  \n",
       "33265769  imdbDisplay                   NaN               0  \n",
       "33297081  alternative                   NaN               0  \n",
       "33297083  imdbDisplay                   NaN               0  \n",
       "\n",
       "[16707 rows x 8 columns]"
      ]
     },
     "execution_count": 43,
     "metadata": {},
     "output_type": "execute_result"
    }
   ],
   "source": [
    "akas_dup_df.sort_values(by='titleId')"
   ]
  },
  {
   "cell_type": "markdown",
   "id": "b9d800e0-c7f9-4cd4-bc62-66c1ea4ee953",
   "metadata": {},
   "source": [
    "# Preprocessing ratings_df"
   ]
  },
  {
   "cell_type": "code",
   "execution_count": 83,
   "id": "9b43b6f3-0764-424e-a6c2-7c7d4b6de648",
   "metadata": {},
   "outputs": [
    {
     "data": {
      "text/html": [
       "<div>\n",
       "<style scoped>\n",
       "    .dataframe tbody tr th:only-of-type {\n",
       "        vertical-align: middle;\n",
       "    }\n",
       "\n",
       "    .dataframe tbody tr th {\n",
       "        vertical-align: top;\n",
       "    }\n",
       "\n",
       "    .dataframe thead th {\n",
       "        text-align: right;\n",
       "    }\n",
       "</style>\n",
       "<table border=\"1\" class=\"dataframe\">\n",
       "  <thead>\n",
       "    <tr style=\"text-align: right;\">\n",
       "      <th></th>\n",
       "      <th>tconst</th>\n",
       "      <th>averageRating</th>\n",
       "      <th>numVotes</th>\n",
       "    </tr>\n",
       "  </thead>\n",
       "  <tbody>\n",
       "    <tr>\n",
       "      <th>0</th>\n",
       "      <td>tt0000001</td>\n",
       "      <td>5.7</td>\n",
       "      <td>1910</td>\n",
       "    </tr>\n",
       "    <tr>\n",
       "      <th>1</th>\n",
       "      <td>tt0000002</td>\n",
       "      <td>5.8</td>\n",
       "      <td>256</td>\n",
       "    </tr>\n",
       "    <tr>\n",
       "      <th>2</th>\n",
       "      <td>tt0000003</td>\n",
       "      <td>6.5</td>\n",
       "      <td>1714</td>\n",
       "    </tr>\n",
       "    <tr>\n",
       "      <th>3</th>\n",
       "      <td>tt0000004</td>\n",
       "      <td>5.6</td>\n",
       "      <td>169</td>\n",
       "    </tr>\n",
       "    <tr>\n",
       "      <th>4</th>\n",
       "      <td>tt0000005</td>\n",
       "      <td>6.2</td>\n",
       "      <td>2527</td>\n",
       "    </tr>\n",
       "  </tbody>\n",
       "</table>\n",
       "</div>"
      ],
      "text/plain": [
       "      tconst  averageRating  numVotes\n",
       "0  tt0000001            5.7      1910\n",
       "1  tt0000002            5.8       256\n",
       "2  tt0000003            6.5      1714\n",
       "3  tt0000004            5.6       169\n",
       "4  tt0000005            6.2      2527"
      ]
     },
     "execution_count": 83,
     "metadata": {},
     "output_type": "execute_result"
    }
   ],
   "source": [
    "ratings_df.head()"
   ]
  },
  {
   "cell_type": "markdown",
   "id": "01894e8c-ff1d-4ac3-90a9-c2ecbbeba6ed",
   "metadata": {},
   "source": [
    "## Replace '/N'"
   ]
  },
  {
   "cell_type": "code",
   "execution_count": 27,
   "id": "f2d0e562-1504-4eb8-b284-4045a02df51c",
   "metadata": {},
   "outputs": [],
   "source": [
    "ratings_df.replace({'\\\\N':np.nan}, inplace=True)"
   ]
  },
  {
   "cell_type": "markdown",
   "id": "ba39a432-cb4b-4cb3-b747-7f90c1698f8e",
   "metadata": {
    "tags": []
   },
   "source": [
    "## Keep only US movies"
   ]
  },
  {
   "cell_type": "code",
   "execution_count": 28,
   "id": "7f334976-4a9e-4c53-8a62-9d86802a9b57",
   "metadata": {},
   "outputs": [],
   "source": [
    "# Filter the basics table down to only include the US by using the filter akas dataframe\n",
    "keep =ratings_df['tconst'].isin(akas_df['titleId'])\n",
    "ratings_df = ratings_df[keep]"
   ]
  },
  {
   "cell_type": "markdown",
   "id": "2907b578-6241-4035-a743-7fc43231869b",
   "metadata": {
    "tags": []
   },
   "source": [
    "## Only keep akas for movies in basics"
   ]
  },
  {
   "cell_type": "code",
   "execution_count": 26,
   "id": "30906da7-c9aa-40e4-afa6-969586169aa9",
   "metadata": {},
   "outputs": [],
   "source": [
    "# Filter the basics table down to only include the US by using the filter akas dataframe\n",
    "ratings_keep =ratings_df['tconst'].isin(basics_df['tconst'])\n",
    "ratings_df = ratings_df[ratings_keep]"
   ]
  },
  {
   "cell_type": "code",
   "execution_count": null,
   "id": "dd80d161-5e62-41a9-bdf4-7a236b92f828",
   "metadata": {},
   "outputs": [],
   "source": []
  },
  {
   "cell_type": "markdown",
   "id": "75e5d948-dbb1-4eb1-9fde-f5e91a774db4",
   "metadata": {},
   "source": [
    "# Final info and saving"
   ]
  },
  {
   "cell_type": "code",
   "execution_count": 29,
   "id": "bf9543f2-7d10-49cc-8635-33849c31099e",
   "metadata": {},
   "outputs": [
    {
     "name": "stdout",
     "output_type": "stream",
     "text": [
      "<class 'pandas.core.frame.DataFrame'>\n",
      "Int64Index: 82697 entries, 34792 to 9255234\n",
      "Data columns (total 9 columns):\n",
      " #   Column          Non-Null Count  Dtype  \n",
      "---  ------          --------------  -----  \n",
      " 0   tconst          82697 non-null  object \n",
      " 1   titleType       82697 non-null  object \n",
      " 2   primaryTitle    82697 non-null  object \n",
      " 3   originalTitle   82697 non-null  object \n",
      " 4   isAdult         82697 non-null  object \n",
      " 5   startYear       82697 non-null  float64\n",
      " 6   endYear         0 non-null      object \n",
      " 7   runtimeMinutes  82697 non-null  object \n",
      " 8   genres          82697 non-null  object \n",
      "dtypes: float64(1), object(8)\n",
      "memory usage: 6.3+ MB\n"
     ]
    }
   ],
   "source": [
    "basics_df.info()"
   ]
  },
  {
   "cell_type": "code",
   "execution_count": 30,
   "id": "42ed29e5-d9a3-4fd0-a22e-a85b2a62cf3a",
   "metadata": {},
   "outputs": [
    {
     "name": "stdout",
     "output_type": "stream",
     "text": [
      "<class 'pandas.core.frame.DataFrame'>\n",
      "Int64Index: 92230 entries, 195744 to 33300906\n",
      "Data columns (total 8 columns):\n",
      " #   Column           Non-Null Count  Dtype \n",
      "---  ------           --------------  ----- \n",
      " 0   titleId          92230 non-null  object\n",
      " 1   ordering         92230 non-null  int64 \n",
      " 2   title            92230 non-null  object\n",
      " 3   region           92230 non-null  object\n",
      " 4   language         938 non-null    object\n",
      " 5   types            85124 non-null  object\n",
      " 6   attributes       4250 non-null   object\n",
      " 7   isOriginalTitle  92230 non-null  object\n",
      "dtypes: int64(1), object(7)\n",
      "memory usage: 6.3+ MB\n"
     ]
    }
   ],
   "source": [
    "akas_df.info()"
   ]
  },
  {
   "cell_type": "code",
   "execution_count": 31,
   "id": "0948dd83-36b7-4880-af16-64c275f57078",
   "metadata": {},
   "outputs": [
    {
     "name": "stdout",
     "output_type": "stream",
     "text": [
      "<class 'pandas.core.frame.DataFrame'>\n",
      "Int64Index: 67942 entries, 17883 to 1261543\n",
      "Data columns (total 3 columns):\n",
      " #   Column         Non-Null Count  Dtype  \n",
      "---  ------         --------------  -----  \n",
      " 0   tconst         67942 non-null  object \n",
      " 1   averageRating  67942 non-null  float64\n",
      " 2   numVotes       67942 non-null  int64  \n",
      "dtypes: float64(1), int64(1), object(1)\n",
      "memory usage: 2.1+ MB\n"
     ]
    }
   ],
   "source": [
    "ratings_df.info()"
   ]
  },
  {
   "cell_type": "code",
   "execution_count": 47,
   "id": "bde0a3be-a198-4a43-b493-43cb3632a227",
   "metadata": {},
   "outputs": [],
   "source": [
    "basics_df.to_csv('Data/basics.csv.gz')"
   ]
  },
  {
   "cell_type": "code",
   "execution_count": 48,
   "id": "e18927a1-5e63-4f88-8ec4-35b86918a010",
   "metadata": {},
   "outputs": [],
   "source": [
    "akas_df.to_csv('Data/akas.csv.gz')"
   ]
  },
  {
   "cell_type": "code",
   "execution_count": 49,
   "id": "5a4f5141-d1b1-4b9c-aa67-98b774ae115b",
   "metadata": {},
   "outputs": [],
   "source": [
    "ratings_df.to_csv('Data/ratings.csv.gz')"
   ]
  },
  {
   "cell_type": "code",
   "execution_count": null,
   "id": "81c04a0d-b52a-4017-a7c9-730e67fc8f0c",
   "metadata": {},
   "outputs": [],
   "source": []
  },
  {
   "cell_type": "code",
   "execution_count": null,
   "id": "763bcc45-4f16-4fe5-916e-d387dc2b4c89",
   "metadata": {},
   "outputs": [],
   "source": []
  }
 ],
 "metadata": {
  "kernelspec": {
   "display_name": "Python [conda env:dojo-env] *",
   "language": "python",
   "name": "conda-env-dojo-env-py"
  },
  "language_info": {
   "codemirror_mode": {
    "name": "ipython",
    "version": 3
   },
   "file_extension": ".py",
   "mimetype": "text/x-python",
   "name": "python",
   "nbconvert_exporter": "python",
   "pygments_lexer": "ipython3",
   "version": "3.8.13"
  }
 },
 "nbformat": 4,
 "nbformat_minor": 5
}
