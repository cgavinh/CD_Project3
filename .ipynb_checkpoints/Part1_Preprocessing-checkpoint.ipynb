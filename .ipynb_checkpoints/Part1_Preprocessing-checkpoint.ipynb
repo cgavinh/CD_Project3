{
 "cells": [
  {
   "cell_type": "markdown",
   "id": "791194df-55a5-4464-a47f-33823ac63174",
   "metadata": {},
   "source": [
    "# Project 3 Part 1: Loading and Preprocessing"
   ]
  },
  {
   "cell_type": "code",
   "execution_count": 8,
   "id": "349dac54-7817-4ddf-9501-4a64216267ed",
   "metadata": {},
   "outputs": [],
   "source": [
    "import pandas as pd\n",
    "import numpy as np"
   ]
  },
  {
   "cell_type": "markdown",
   "id": "68c29dab-b677-4ea2-bcac-f6f4530c7ca9",
   "metadata": {
    "tags": []
   },
   "source": [
    "# Load Data"
   ]
  },
  {
   "cell_type": "code",
   "execution_count": 59,
   "id": "79df2dc4-0709-4801-a3c8-601f2bdd31d3",
   "metadata": {},
   "outputs": [],
   "source": [
    "basics_df = pd.read_csv('https://datasets.imdbws.com/title.basics.tsv.gz', sep='\\t', low_memory=False)"
   ]
  },
  {
   "cell_type": "code",
   "execution_count": 4,
   "id": "17007ff7-d71b-408a-b123-f893a8fee4e5",
   "metadata": {},
   "outputs": [],
   "source": [
    "akas_df = pd.read_csv('https://datasets.imdbws.com/title.akas.tsv.gz', sep='\\t', low_memory=False)"
   ]
  },
  {
   "cell_type": "code",
   "execution_count": 6,
   "id": "abfe2ebc-00e4-4977-86ac-c6dc07a12e2f",
   "metadata": {},
   "outputs": [],
   "source": [
    "ratings_df = pd.read_csv('https://datasets.imdbws.com/title.ratings.tsv.gz', sep='\\t', low_memory=False)"
   ]
  },
  {
   "cell_type": "markdown",
   "id": "bcdcb2a3-9c5c-47f4-a920-7b840972462f",
   "metadata": {
    "tags": []
   },
   "source": [
    "# Preprocessing basics_df"
   ]
  },
  {
   "cell_type": "code",
   "execution_count": 36,
   "id": "30466739-b79d-4620-8c75-c1a7e9289429",
   "metadata": {},
   "outputs": [
    {
     "data": {
      "text/html": [
       "<div>\n",
       "<style scoped>\n",
       "    .dataframe tbody tr th:only-of-type {\n",
       "        vertical-align: middle;\n",
       "    }\n",
       "\n",
       "    .dataframe tbody tr th {\n",
       "        vertical-align: top;\n",
       "    }\n",
       "\n",
       "    .dataframe thead th {\n",
       "        text-align: right;\n",
       "    }\n",
       "</style>\n",
       "<table border=\"1\" class=\"dataframe\">\n",
       "  <thead>\n",
       "    <tr style=\"text-align: right;\">\n",
       "      <th></th>\n",
       "      <th>tconst</th>\n",
       "      <th>titleType</th>\n",
       "      <th>primaryTitle</th>\n",
       "      <th>originalTitle</th>\n",
       "      <th>isAdult</th>\n",
       "      <th>startYear</th>\n",
       "      <th>endYear</th>\n",
       "      <th>runtimeMinutes</th>\n",
       "      <th>genres</th>\n",
       "    </tr>\n",
       "  </thead>\n",
       "  <tbody>\n",
       "    <tr>\n",
       "      <th>0</th>\n",
       "      <td>tt0000001</td>\n",
       "      <td>short</td>\n",
       "      <td>Carmencita</td>\n",
       "      <td>Carmencita</td>\n",
       "      <td>0</td>\n",
       "      <td>1894</td>\n",
       "      <td>\\N</td>\n",
       "      <td>1</td>\n",
       "      <td>Documentary,Short</td>\n",
       "    </tr>\n",
       "    <tr>\n",
       "      <th>1</th>\n",
       "      <td>tt0000002</td>\n",
       "      <td>short</td>\n",
       "      <td>Le clown et ses chiens</td>\n",
       "      <td>Le clown et ses chiens</td>\n",
       "      <td>0</td>\n",
       "      <td>1892</td>\n",
       "      <td>\\N</td>\n",
       "      <td>5</td>\n",
       "      <td>Animation,Short</td>\n",
       "    </tr>\n",
       "    <tr>\n",
       "      <th>2</th>\n",
       "      <td>tt0000003</td>\n",
       "      <td>short</td>\n",
       "      <td>Pauvre Pierrot</td>\n",
       "      <td>Pauvre Pierrot</td>\n",
       "      <td>0</td>\n",
       "      <td>1892</td>\n",
       "      <td>\\N</td>\n",
       "      <td>4</td>\n",
       "      <td>Animation,Comedy,Romance</td>\n",
       "    </tr>\n",
       "    <tr>\n",
       "      <th>3</th>\n",
       "      <td>tt0000004</td>\n",
       "      <td>short</td>\n",
       "      <td>Un bon bock</td>\n",
       "      <td>Un bon bock</td>\n",
       "      <td>0</td>\n",
       "      <td>1892</td>\n",
       "      <td>\\N</td>\n",
       "      <td>12</td>\n",
       "      <td>Animation,Short</td>\n",
       "    </tr>\n",
       "    <tr>\n",
       "      <th>4</th>\n",
       "      <td>tt0000005</td>\n",
       "      <td>short</td>\n",
       "      <td>Blacksmith Scene</td>\n",
       "      <td>Blacksmith Scene</td>\n",
       "      <td>0</td>\n",
       "      <td>1893</td>\n",
       "      <td>\\N</td>\n",
       "      <td>1</td>\n",
       "      <td>Comedy,Short</td>\n",
       "    </tr>\n",
       "  </tbody>\n",
       "</table>\n",
       "</div>"
      ],
      "text/plain": [
       "      tconst titleType            primaryTitle           originalTitle  \\\n",
       "0  tt0000001     short              Carmencita              Carmencita   \n",
       "1  tt0000002     short  Le clown et ses chiens  Le clown et ses chiens   \n",
       "2  tt0000003     short          Pauvre Pierrot          Pauvre Pierrot   \n",
       "3  tt0000004     short             Un bon bock             Un bon bock   \n",
       "4  tt0000005     short        Blacksmith Scene        Blacksmith Scene   \n",
       "\n",
       "  isAdult startYear endYear runtimeMinutes                    genres  \n",
       "0       0      1894      \\N              1         Documentary,Short  \n",
       "1       0      1892      \\N              5           Animation,Short  \n",
       "2       0      1892      \\N              4  Animation,Comedy,Romance  \n",
       "3       0      1892      \\N             12           Animation,Short  \n",
       "4       0      1893      \\N              1              Comedy,Short  "
      ]
     },
     "execution_count": 36,
     "metadata": {},
     "output_type": "execute_result"
    }
   ],
   "source": [
    "basics_df.head()"
   ]
  },
  {
   "cell_type": "markdown",
   "id": "a74b8280-2955-450e-a2f3-2f078cf335bb",
   "metadata": {},
   "source": [
    "## Replace '/N'"
   ]
  },
  {
   "cell_type": "code",
   "execution_count": 60,
   "id": "97ca114e-7b48-43c5-9622-d58bcbe82c21",
   "metadata": {},
   "outputs": [],
   "source": [
    "basics_df.replace({'\\\\N':np.nan}, inplace=True)"
   ]
  },
  {
   "cell_type": "markdown",
   "id": "31b1cf26-b8b2-4dfa-a752-ec74ebf5ea41",
   "metadata": {},
   "source": [
    "## Eliminate entries null for runtimeMinutes or genre"
   ]
  },
  {
   "cell_type": "code",
   "execution_count": 61,
   "id": "2d96215d-7829-4f2b-b39e-0cc30818f4e9",
   "metadata": {},
   "outputs": [
    {
     "data": {
      "text/plain": [
       "tconst                  0\n",
       "titleType               0\n",
       "primaryTitle           11\n",
       "originalTitle          11\n",
       "isAdult                 1\n",
       "startYear         1229118\n",
       "endYear           9130315\n",
       "runtimeMinutes    6753522\n",
       "genres             427252\n",
       "dtype: int64"
      ]
     },
     "execution_count": 61,
     "metadata": {},
     "output_type": "execute_result"
    }
   ],
   "source": [
    "basics_df.isna().sum()"
   ]
  },
  {
   "cell_type": "code",
   "execution_count": 62,
   "id": "53f415cc-1b51-4c7d-a558-d795fd42df65",
   "metadata": {},
   "outputs": [],
   "source": [
    "basics_df.dropna(subset=['runtimeMinutes', 'genres'], inplace=True)"
   ]
  },
  {
   "cell_type": "markdown",
   "id": "445d9564-e7e7-4b44-9f93-9fcdcc00efe4",
   "metadata": {},
   "source": [
    "## Only keep if titleType==Movie"
   ]
  },
  {
   "cell_type": "code",
   "execution_count": 63,
   "id": "961a43a1-8b2c-4d38-b02f-bed30704b8bc",
   "metadata": {},
   "outputs": [
    {
     "data": {
      "text/plain": [
       "array(['short', 'movie', 'tvEpisode', 'tvSeries', 'tvShort', 'tvMovie',\n",
       "       'tvMiniSeries', 'video', 'tvSpecial', 'videoGame'], dtype=object)"
      ]
     },
     "execution_count": 63,
     "metadata": {},
     "output_type": "execute_result"
    }
   ],
   "source": [
    "basics_df['titleType'].unique()"
   ]
  },
  {
   "cell_type": "code",
   "execution_count": 64,
   "id": "94bbe5b9-6656-40cb-9556-702b12d75869",
   "metadata": {},
   "outputs": [],
   "source": [
    "basics_df = basics_df[basics_df.titleType == 'movie']"
   ]
  },
  {
   "cell_type": "markdown",
   "id": "e890132f-a230-48b8-ae6c-74dbc13e3d0d",
   "metadata": {
    "tags": []
   },
   "source": [
    "## keep startYear 2000-2022"
   ]
  },
  {
   "cell_type": "code",
   "execution_count": 65,
   "id": "bcd72b81-bae1-400f-8d18-8d0b1722f537",
   "metadata": {},
   "outputs": [],
   "source": [
    "basics_df['startYear'] = pd.to_numeric(basics_df['startYear'])"
   ]
  },
  {
   "cell_type": "code",
   "execution_count": 66,
   "id": "34b7b19e-5301-44ea-bf6e-18b5fbf7c085",
   "metadata": {},
   "outputs": [
    {
     "data": {
      "text/plain": [
       "dtype('float64')"
      ]
     },
     "execution_count": 66,
     "metadata": {},
     "output_type": "execute_result"
    }
   ],
   "source": [
    "basics_df['startYear'].dtype"
   ]
  },
  {
   "cell_type": "code",
   "execution_count": 67,
   "id": "83d079d9-78fa-460b-8a77-90660c34c2cd",
   "metadata": {},
   "outputs": [],
   "source": [
    "year_filter = (basics_df['startYear'] > 1999) & (basics_df['startYear'] < 2023)"
   ]
  },
  {
   "cell_type": "code",
   "execution_count": 68,
   "id": "e24637e1-7267-459e-b23f-f8d9e9230524",
   "metadata": {},
   "outputs": [],
   "source": [
    "basics_df = basics_df[year_filter]"
   ]
  },
  {
   "cell_type": "code",
   "execution_count": 69,
   "id": "f0cedbd4-5981-43f7-94a7-2fcc6f718280",
   "metadata": {},
   "outputs": [
    {
     "data": {
      "text/html": [
       "<div>\n",
       "<style scoped>\n",
       "    .dataframe tbody tr th:only-of-type {\n",
       "        vertical-align: middle;\n",
       "    }\n",
       "\n",
       "    .dataframe tbody tr th {\n",
       "        vertical-align: top;\n",
       "    }\n",
       "\n",
       "    .dataframe thead th {\n",
       "        text-align: right;\n",
       "    }\n",
       "</style>\n",
       "<table border=\"1\" class=\"dataframe\">\n",
       "  <thead>\n",
       "    <tr style=\"text-align: right;\">\n",
       "      <th></th>\n",
       "      <th>tconst</th>\n",
       "      <th>titleType</th>\n",
       "      <th>primaryTitle</th>\n",
       "      <th>originalTitle</th>\n",
       "      <th>isAdult</th>\n",
       "      <th>startYear</th>\n",
       "      <th>endYear</th>\n",
       "      <th>runtimeMinutes</th>\n",
       "      <th>genres</th>\n",
       "    </tr>\n",
       "  </thead>\n",
       "  <tbody>\n",
       "    <tr>\n",
       "      <th>13079</th>\n",
       "      <td>tt0013274</td>\n",
       "      <td>movie</td>\n",
       "      <td>Istoriya grazhdanskoy voyny</td>\n",
       "      <td>Istoriya grazhdanskoy voyny</td>\n",
       "      <td>0</td>\n",
       "      <td>2021.0</td>\n",
       "      <td>NaN</td>\n",
       "      <td>133</td>\n",
       "      <td>Documentary</td>\n",
       "    </tr>\n",
       "    <tr>\n",
       "      <th>34792</th>\n",
       "      <td>tt0035423</td>\n",
       "      <td>movie</td>\n",
       "      <td>Kate &amp; Leopold</td>\n",
       "      <td>Kate &amp; Leopold</td>\n",
       "      <td>0</td>\n",
       "      <td>2001.0</td>\n",
       "      <td>NaN</td>\n",
       "      <td>118</td>\n",
       "      <td>Comedy,Fantasy,Romance</td>\n",
       "    </tr>\n",
       "    <tr>\n",
       "      <th>61093</th>\n",
       "      <td>tt0062336</td>\n",
       "      <td>movie</td>\n",
       "      <td>The Tango of the Widower and Its Distorting Mi...</td>\n",
       "      <td>El Tango del Viudo y Su Espejo Deformante</td>\n",
       "      <td>0</td>\n",
       "      <td>2020.0</td>\n",
       "      <td>NaN</td>\n",
       "      <td>70</td>\n",
       "      <td>Drama</td>\n",
       "    </tr>\n",
       "    <tr>\n",
       "      <th>66308</th>\n",
       "      <td>tt0067683</td>\n",
       "      <td>movie</td>\n",
       "      <td>Workers '71: Nothing About Us Without Us</td>\n",
       "      <td>Robotnicy 1971 - Nic o nas bez nas</td>\n",
       "      <td>0</td>\n",
       "      <td>2006.0</td>\n",
       "      <td>NaN</td>\n",
       "      <td>47</td>\n",
       "      <td>Documentary</td>\n",
       "    </tr>\n",
       "    <tr>\n",
       "      <th>67639</th>\n",
       "      <td>tt0069049</td>\n",
       "      <td>movie</td>\n",
       "      <td>The Other Side of the Wind</td>\n",
       "      <td>The Other Side of the Wind</td>\n",
       "      <td>0</td>\n",
       "      <td>2018.0</td>\n",
       "      <td>NaN</td>\n",
       "      <td>122</td>\n",
       "      <td>Drama</td>\n",
       "    </tr>\n",
       "  </tbody>\n",
       "</table>\n",
       "</div>"
      ],
      "text/plain": [
       "          tconst titleType                                       primaryTitle  \\\n",
       "13079  tt0013274     movie                        Istoriya grazhdanskoy voyny   \n",
       "34792  tt0035423     movie                                     Kate & Leopold   \n",
       "61093  tt0062336     movie  The Tango of the Widower and Its Distorting Mi...   \n",
       "66308  tt0067683     movie           Workers '71: Nothing About Us Without Us   \n",
       "67639  tt0069049     movie                         The Other Side of the Wind   \n",
       "\n",
       "                                   originalTitle isAdult  startYear endYear  \\\n",
       "13079                Istoriya grazhdanskoy voyny       0     2021.0     NaN   \n",
       "34792                             Kate & Leopold       0     2001.0     NaN   \n",
       "61093  El Tango del Viudo y Su Espejo Deformante       0     2020.0     NaN   \n",
       "66308         Robotnicy 1971 - Nic o nas bez nas       0     2006.0     NaN   \n",
       "67639                 The Other Side of the Wind       0     2018.0     NaN   \n",
       "\n",
       "      runtimeMinutes                  genres  \n",
       "13079            133             Documentary  \n",
       "34792            118  Comedy,Fantasy,Romance  \n",
       "61093             70                   Drama  \n",
       "66308             47             Documentary  \n",
       "67639            122                   Drama  "
      ]
     },
     "execution_count": 69,
     "metadata": {},
     "output_type": "execute_result"
    }
   ],
   "source": [
    "basics_df.head()"
   ]
  },
  {
   "cell_type": "markdown",
   "id": "0e92e55a-59ac-4e7d-9135-29be9f9b9e1d",
   "metadata": {},
   "source": [
    "## Eliminate movies that include \"Documentary\" in genre"
   ]
  },
  {
   "cell_type": "code",
   "execution_count": 70,
   "id": "c4635072-2541-4680-9774-ca207b6496cd",
   "metadata": {},
   "outputs": [],
   "source": [
    "is_documentary = basics_df['genres'].str.contains('documentary',case=False)\n",
    "basics_df = basics_df[~is_documentary]"
   ]
  },
  {
   "cell_type": "markdown",
   "id": "c708af66-0304-4f6a-927e-4427b8112f68",
   "metadata": {},
   "source": [
    "## Keep only US movies"
   ]
  },
  {
   "cell_type": "code",
   "execution_count": 81,
   "id": "b9997d70-e966-4958-a470-fce654ed0c88",
   "metadata": {},
   "outputs": [
    {
     "data": {
      "text/html": [
       "<div>\n",
       "<style scoped>\n",
       "    .dataframe tbody tr th:only-of-type {\n",
       "        vertical-align: middle;\n",
       "    }\n",
       "\n",
       "    .dataframe tbody tr th {\n",
       "        vertical-align: top;\n",
       "    }\n",
       "\n",
       "    .dataframe thead th {\n",
       "        text-align: right;\n",
       "    }\n",
       "</style>\n",
       "<table border=\"1\" class=\"dataframe\">\n",
       "  <thead>\n",
       "    <tr style=\"text-align: right;\">\n",
       "      <th></th>\n",
       "      <th>titleId</th>\n",
       "      <th>ordering</th>\n",
       "      <th>title</th>\n",
       "      <th>region</th>\n",
       "      <th>language</th>\n",
       "      <th>types</th>\n",
       "      <th>attributes</th>\n",
       "      <th>isOriginalTitle</th>\n",
       "    </tr>\n",
       "  </thead>\n",
       "  <tbody>\n",
       "    <tr>\n",
       "      <th>5</th>\n",
       "      <td>tt0000001</td>\n",
       "      <td>6</td>\n",
       "      <td>Carmencita</td>\n",
       "      <td>US</td>\n",
       "      <td>\\N</td>\n",
       "      <td>imdbDisplay</td>\n",
       "      <td>\\N</td>\n",
       "      <td>0</td>\n",
       "    </tr>\n",
       "    <tr>\n",
       "      <th>14</th>\n",
       "      <td>tt0000002</td>\n",
       "      <td>7</td>\n",
       "      <td>The Clown and His Dogs</td>\n",
       "      <td>US</td>\n",
       "      <td>\\N</td>\n",
       "      <td>\\N</td>\n",
       "      <td>literal English title</td>\n",
       "      <td>0</td>\n",
       "    </tr>\n",
       "    <tr>\n",
       "      <th>33</th>\n",
       "      <td>tt0000005</td>\n",
       "      <td>10</td>\n",
       "      <td>Blacksmith Scene</td>\n",
       "      <td>US</td>\n",
       "      <td>\\N</td>\n",
       "      <td>imdbDisplay</td>\n",
       "      <td>\\N</td>\n",
       "      <td>0</td>\n",
       "    </tr>\n",
       "    <tr>\n",
       "      <th>36</th>\n",
       "      <td>tt0000005</td>\n",
       "      <td>1</td>\n",
       "      <td>Blacksmithing Scene</td>\n",
       "      <td>US</td>\n",
       "      <td>\\N</td>\n",
       "      <td>alternative</td>\n",
       "      <td>\\N</td>\n",
       "      <td>0</td>\n",
       "    </tr>\n",
       "    <tr>\n",
       "      <th>41</th>\n",
       "      <td>tt0000005</td>\n",
       "      <td>6</td>\n",
       "      <td>Blacksmith Scene #1</td>\n",
       "      <td>US</td>\n",
       "      <td>\\N</td>\n",
       "      <td>alternative</td>\n",
       "      <td>\\N</td>\n",
       "      <td>0</td>\n",
       "    </tr>\n",
       "  </tbody>\n",
       "</table>\n",
       "</div>"
      ],
      "text/plain": [
       "      titleId  ordering                   title region language        types  \\\n",
       "5   tt0000001         6              Carmencita     US       \\N  imdbDisplay   \n",
       "14  tt0000002         7  The Clown and His Dogs     US       \\N           \\N   \n",
       "33  tt0000005        10        Blacksmith Scene     US       \\N  imdbDisplay   \n",
       "36  tt0000005         1     Blacksmithing Scene     US       \\N  alternative   \n",
       "41  tt0000005         6     Blacksmith Scene #1     US       \\N  alternative   \n",
       "\n",
       "               attributes isOriginalTitle  \n",
       "5                      \\N               0  \n",
       "14  literal English title               0  \n",
       "33                     \\N               0  \n",
       "36                     \\N               0  \n",
       "41                     \\N               0  "
      ]
     },
     "execution_count": 81,
     "metadata": {},
     "output_type": "execute_result"
    }
   ],
   "source": [
    "akas_df.head()"
   ]
  },
  {
   "cell_type": "code",
   "execution_count": 78,
   "id": "eccb4357-4ef6-40cc-b68a-ac54688710e4",
   "metadata": {},
   "outputs": [],
   "source": [
    "US_filter = akas_df['region'] == 'US'\n",
    "akas_df = akas_df[US_filter]"
   ]
  },
  {
   "cell_type": "code",
   "execution_count": 79,
   "id": "f8fd9257-d5fc-46f9-8223-f917028367b4",
   "metadata": {},
   "outputs": [],
   "source": [
    "# Filter the basics table down to only include the US by using the filter akas dataframe\n",
    "keep =basics_df['tconst'].isin(akas_df['titleId'])\n",
    "basics_df = basics_df[keep]"
   ]
  },
  {
   "cell_type": "code",
   "execution_count": 80,
   "id": "0e07afa9-eab9-48c4-88ae-f590486a69e7",
   "metadata": {},
   "outputs": [
    {
     "data": {
      "text/html": [
       "<div>\n",
       "<style scoped>\n",
       "    .dataframe tbody tr th:only-of-type {\n",
       "        vertical-align: middle;\n",
       "    }\n",
       "\n",
       "    .dataframe tbody tr th {\n",
       "        vertical-align: top;\n",
       "    }\n",
       "\n",
       "    .dataframe thead th {\n",
       "        text-align: right;\n",
       "    }\n",
       "</style>\n",
       "<table border=\"1\" class=\"dataframe\">\n",
       "  <thead>\n",
       "    <tr style=\"text-align: right;\">\n",
       "      <th></th>\n",
       "      <th>tconst</th>\n",
       "      <th>titleType</th>\n",
       "      <th>primaryTitle</th>\n",
       "      <th>originalTitle</th>\n",
       "      <th>isAdult</th>\n",
       "      <th>startYear</th>\n",
       "      <th>endYear</th>\n",
       "      <th>runtimeMinutes</th>\n",
       "      <th>genres</th>\n",
       "    </tr>\n",
       "  </thead>\n",
       "  <tbody>\n",
       "    <tr>\n",
       "      <th>34792</th>\n",
       "      <td>tt0035423</td>\n",
       "      <td>movie</td>\n",
       "      <td>Kate &amp; Leopold</td>\n",
       "      <td>Kate &amp; Leopold</td>\n",
       "      <td>0</td>\n",
       "      <td>2001.0</td>\n",
       "      <td>NaN</td>\n",
       "      <td>118</td>\n",
       "      <td>Comedy,Fantasy,Romance</td>\n",
       "    </tr>\n",
       "    <tr>\n",
       "      <th>61093</th>\n",
       "      <td>tt0062336</td>\n",
       "      <td>movie</td>\n",
       "      <td>The Tango of the Widower and Its Distorting Mi...</td>\n",
       "      <td>El Tango del Viudo y Su Espejo Deformante</td>\n",
       "      <td>0</td>\n",
       "      <td>2020.0</td>\n",
       "      <td>NaN</td>\n",
       "      <td>70</td>\n",
       "      <td>Drama</td>\n",
       "    </tr>\n",
       "    <tr>\n",
       "      <th>67639</th>\n",
       "      <td>tt0069049</td>\n",
       "      <td>movie</td>\n",
       "      <td>The Other Side of the Wind</td>\n",
       "      <td>The Other Side of the Wind</td>\n",
       "      <td>0</td>\n",
       "      <td>2018.0</td>\n",
       "      <td>NaN</td>\n",
       "      <td>122</td>\n",
       "      <td>Drama</td>\n",
       "    </tr>\n",
       "    <tr>\n",
       "      <th>86770</th>\n",
       "      <td>tt0088751</td>\n",
       "      <td>movie</td>\n",
       "      <td>The Naked Monster</td>\n",
       "      <td>The Naked Monster</td>\n",
       "      <td>0</td>\n",
       "      <td>2005.0</td>\n",
       "      <td>NaN</td>\n",
       "      <td>100</td>\n",
       "      <td>Comedy,Horror,Sci-Fi</td>\n",
       "    </tr>\n",
       "    <tr>\n",
       "      <th>93906</th>\n",
       "      <td>tt0096056</td>\n",
       "      <td>movie</td>\n",
       "      <td>Crime and Punishment</td>\n",
       "      <td>Crime and Punishment</td>\n",
       "      <td>0</td>\n",
       "      <td>2002.0</td>\n",
       "      <td>NaN</td>\n",
       "      <td>126</td>\n",
       "      <td>Drama</td>\n",
       "    </tr>\n",
       "  </tbody>\n",
       "</table>\n",
       "</div>"
      ],
      "text/plain": [
       "          tconst titleType                                       primaryTitle  \\\n",
       "34792  tt0035423     movie                                     Kate & Leopold   \n",
       "61093  tt0062336     movie  The Tango of the Widower and Its Distorting Mi...   \n",
       "67639  tt0069049     movie                         The Other Side of the Wind   \n",
       "86770  tt0088751     movie                                  The Naked Monster   \n",
       "93906  tt0096056     movie                               Crime and Punishment   \n",
       "\n",
       "                                   originalTitle isAdult  startYear endYear  \\\n",
       "34792                             Kate & Leopold       0     2001.0     NaN   \n",
       "61093  El Tango del Viudo y Su Espejo Deformante       0     2020.0     NaN   \n",
       "67639                 The Other Side of the Wind       0     2018.0     NaN   \n",
       "86770                          The Naked Monster       0     2005.0     NaN   \n",
       "93906                       Crime and Punishment       0     2002.0     NaN   \n",
       "\n",
       "      runtimeMinutes                  genres  \n",
       "34792            118  Comedy,Fantasy,Romance  \n",
       "61093             70                   Drama  \n",
       "67639            122                   Drama  \n",
       "86770            100    Comedy,Horror,Sci-Fi  \n",
       "93906            126                   Drama  "
      ]
     },
     "execution_count": 80,
     "metadata": {},
     "output_type": "execute_result"
    }
   ],
   "source": [
    "basics_df.head()"
   ]
  },
  {
   "cell_type": "code",
   "execution_count": 77,
   "id": "f92a5dd5-7d58-47e9-bdf4-bdc3f198c03f",
   "metadata": {},
   "outputs": [
    {
     "data": {
      "text/html": [
       "<div>\n",
       "<style scoped>\n",
       "    .dataframe tbody tr th:only-of-type {\n",
       "        vertical-align: middle;\n",
       "    }\n",
       "\n",
       "    .dataframe tbody tr th {\n",
       "        vertical-align: top;\n",
       "    }\n",
       "\n",
       "    .dataframe thead th {\n",
       "        text-align: right;\n",
       "    }\n",
       "</style>\n",
       "<table border=\"1\" class=\"dataframe\">\n",
       "  <thead>\n",
       "    <tr style=\"text-align: right;\">\n",
       "      <th></th>\n",
       "      <th>titleId</th>\n",
       "      <th>ordering</th>\n",
       "      <th>title</th>\n",
       "      <th>region</th>\n",
       "      <th>language</th>\n",
       "      <th>types</th>\n",
       "      <th>attributes</th>\n",
       "      <th>isOriginalTitle</th>\n",
       "    </tr>\n",
       "  </thead>\n",
       "  <tbody>\n",
       "    <tr>\n",
       "      <th>5</th>\n",
       "      <td>tt0000001</td>\n",
       "      <td>6</td>\n",
       "      <td>Carmencita</td>\n",
       "      <td>US</td>\n",
       "      <td>\\N</td>\n",
       "      <td>imdbDisplay</td>\n",
       "      <td>\\N</td>\n",
       "      <td>0</td>\n",
       "    </tr>\n",
       "    <tr>\n",
       "      <th>14</th>\n",
       "      <td>tt0000002</td>\n",
       "      <td>7</td>\n",
       "      <td>The Clown and His Dogs</td>\n",
       "      <td>US</td>\n",
       "      <td>\\N</td>\n",
       "      <td>\\N</td>\n",
       "      <td>literal English title</td>\n",
       "      <td>0</td>\n",
       "    </tr>\n",
       "    <tr>\n",
       "      <th>33</th>\n",
       "      <td>tt0000005</td>\n",
       "      <td>10</td>\n",
       "      <td>Blacksmith Scene</td>\n",
       "      <td>US</td>\n",
       "      <td>\\N</td>\n",
       "      <td>imdbDisplay</td>\n",
       "      <td>\\N</td>\n",
       "      <td>0</td>\n",
       "    </tr>\n",
       "    <tr>\n",
       "      <th>36</th>\n",
       "      <td>tt0000005</td>\n",
       "      <td>1</td>\n",
       "      <td>Blacksmithing Scene</td>\n",
       "      <td>US</td>\n",
       "      <td>\\N</td>\n",
       "      <td>alternative</td>\n",
       "      <td>\\N</td>\n",
       "      <td>0</td>\n",
       "    </tr>\n",
       "    <tr>\n",
       "      <th>41</th>\n",
       "      <td>tt0000005</td>\n",
       "      <td>6</td>\n",
       "      <td>Blacksmith Scene #1</td>\n",
       "      <td>US</td>\n",
       "      <td>\\N</td>\n",
       "      <td>alternative</td>\n",
       "      <td>\\N</td>\n",
       "      <td>0</td>\n",
       "    </tr>\n",
       "    <tr>\n",
       "      <th>...</th>\n",
       "      <td>...</td>\n",
       "      <td>...</td>\n",
       "      <td>...</td>\n",
       "      <td>...</td>\n",
       "      <td>...</td>\n",
       "      <td>...</td>\n",
       "      <td>...</td>\n",
       "      <td>...</td>\n",
       "    </tr>\n",
       "    <tr>\n",
       "      <th>33183184</th>\n",
       "      <td>tt9916702</td>\n",
       "      <td>1</td>\n",
       "      <td>Loving London: The Playground</td>\n",
       "      <td>US</td>\n",
       "      <td>\\N</td>\n",
       "      <td>\\N</td>\n",
       "      <td>\\N</td>\n",
       "      <td>0</td>\n",
       "    </tr>\n",
       "    <tr>\n",
       "      <th>33183221</th>\n",
       "      <td>tt9916720</td>\n",
       "      <td>10</td>\n",
       "      <td>The Demonic Nun</td>\n",
       "      <td>US</td>\n",
       "      <td>\\N</td>\n",
       "      <td>tv</td>\n",
       "      <td>\\N</td>\n",
       "      <td>0</td>\n",
       "    </tr>\n",
       "    <tr>\n",
       "      <th>33183223</th>\n",
       "      <td>tt9916720</td>\n",
       "      <td>12</td>\n",
       "      <td>The Nun 2</td>\n",
       "      <td>US</td>\n",
       "      <td>\\N</td>\n",
       "      <td>imdbDisplay</td>\n",
       "      <td>\\N</td>\n",
       "      <td>0</td>\n",
       "    </tr>\n",
       "    <tr>\n",
       "      <th>33183240</th>\n",
       "      <td>tt9916756</td>\n",
       "      <td>1</td>\n",
       "      <td>Pretty Pretty Black Girl</td>\n",
       "      <td>US</td>\n",
       "      <td>\\N</td>\n",
       "      <td>imdbDisplay</td>\n",
       "      <td>\\N</td>\n",
       "      <td>0</td>\n",
       "    </tr>\n",
       "    <tr>\n",
       "      <th>33183256</th>\n",
       "      <td>tt9916764</td>\n",
       "      <td>1</td>\n",
       "      <td>38</td>\n",
       "      <td>US</td>\n",
       "      <td>\\N</td>\n",
       "      <td>imdbDisplay</td>\n",
       "      <td>\\N</td>\n",
       "      <td>0</td>\n",
       "    </tr>\n",
       "  </tbody>\n",
       "</table>\n",
       "<p>1348981 rows × 8 columns</p>\n",
       "</div>"
      ],
      "text/plain": [
       "            titleId  ordering                          title region language  \\\n",
       "5         tt0000001         6                     Carmencita     US       \\N   \n",
       "14        tt0000002         7         The Clown and His Dogs     US       \\N   \n",
       "33        tt0000005        10               Blacksmith Scene     US       \\N   \n",
       "36        tt0000005         1            Blacksmithing Scene     US       \\N   \n",
       "41        tt0000005         6            Blacksmith Scene #1     US       \\N   \n",
       "...             ...       ...                            ...    ...      ...   \n",
       "33183184  tt9916702         1  Loving London: The Playground     US       \\N   \n",
       "33183221  tt9916720        10                The Demonic Nun     US       \\N   \n",
       "33183223  tt9916720        12                      The Nun 2     US       \\N   \n",
       "33183240  tt9916756         1       Pretty Pretty Black Girl     US       \\N   \n",
       "33183256  tt9916764         1                             38     US       \\N   \n",
       "\n",
       "                types             attributes isOriginalTitle  \n",
       "5         imdbDisplay                     \\N               0  \n",
       "14                 \\N  literal English title               0  \n",
       "33        imdbDisplay                     \\N               0  \n",
       "36        alternative                     \\N               0  \n",
       "41        alternative                     \\N               0  \n",
       "...               ...                    ...             ...  \n",
       "33183184           \\N                     \\N               0  \n",
       "33183221           tv                     \\N               0  \n",
       "33183223  imdbDisplay                     \\N               0  \n",
       "33183240  imdbDisplay                     \\N               0  \n",
       "33183256  imdbDisplay                     \\N               0  \n",
       "\n",
       "[1348981 rows x 8 columns]"
      ]
     },
     "execution_count": 77,
     "metadata": {},
     "output_type": "execute_result"
    }
   ],
   "source": [
    "akas_df.loc[akas_df['region']=='US']"
   ]
  },
  {
   "cell_type": "markdown",
   "id": "614dfbf5-6ac5-419a-b244-e1ce3872ee86",
   "metadata": {},
   "source": [
    "# Preprocesing akas_df"
   ]
  },
  {
   "cell_type": "markdown",
   "id": "c38128f1-13b0-4d14-85d9-3d87a1a5083a",
   "metadata": {
    "tags": []
   },
   "source": [
    "## keep only US movies\n",
    "- see preprocessing basics_df"
   ]
  },
  {
   "cell_type": "markdown",
   "id": "6c7cd766-0f75-4adc-82ed-ee428bf59275",
   "metadata": {},
   "source": [
    "## Replace '/N'"
   ]
  },
  {
   "cell_type": "code",
   "execution_count": 82,
   "id": "05c88dae-8b5e-49d4-8125-e5d1bdf01f6d",
   "metadata": {},
   "outputs": [
    {
     "name": "stderr",
     "output_type": "stream",
     "text": [
      "<ipython-input-82-334dcec25286>:1: SettingWithCopyWarning: \n",
      "A value is trying to be set on a copy of a slice from a DataFrame\n",
      "\n",
      "See the caveats in the documentation: https://pandas.pydata.org/pandas-docs/stable/user_guide/indexing.html#returning-a-view-versus-a-copy\n",
      "  akas_df.replace({'\\\\N':np.nan}, inplace=True)\n"
     ]
    }
   ],
   "source": [
    "akas_df.replace({'\\\\N':np.nan}, inplace=True)"
   ]
  },
  {
   "cell_type": "markdown",
   "id": "b9d800e0-c7f9-4cd4-bc62-66c1ea4ee953",
   "metadata": {},
   "source": [
    "# Preprocessing ratings_df"
   ]
  },
  {
   "cell_type": "code",
   "execution_count": 83,
   "id": "9b43b6f3-0764-424e-a6c2-7c7d4b6de648",
   "metadata": {},
   "outputs": [
    {
     "data": {
      "text/html": [
       "<div>\n",
       "<style scoped>\n",
       "    .dataframe tbody tr th:only-of-type {\n",
       "        vertical-align: middle;\n",
       "    }\n",
       "\n",
       "    .dataframe tbody tr th {\n",
       "        vertical-align: top;\n",
       "    }\n",
       "\n",
       "    .dataframe thead th {\n",
       "        text-align: right;\n",
       "    }\n",
       "</style>\n",
       "<table border=\"1\" class=\"dataframe\">\n",
       "  <thead>\n",
       "    <tr style=\"text-align: right;\">\n",
       "      <th></th>\n",
       "      <th>tconst</th>\n",
       "      <th>averageRating</th>\n",
       "      <th>numVotes</th>\n",
       "    </tr>\n",
       "  </thead>\n",
       "  <tbody>\n",
       "    <tr>\n",
       "      <th>0</th>\n",
       "      <td>tt0000001</td>\n",
       "      <td>5.7</td>\n",
       "      <td>1910</td>\n",
       "    </tr>\n",
       "    <tr>\n",
       "      <th>1</th>\n",
       "      <td>tt0000002</td>\n",
       "      <td>5.8</td>\n",
       "      <td>256</td>\n",
       "    </tr>\n",
       "    <tr>\n",
       "      <th>2</th>\n",
       "      <td>tt0000003</td>\n",
       "      <td>6.5</td>\n",
       "      <td>1714</td>\n",
       "    </tr>\n",
       "    <tr>\n",
       "      <th>3</th>\n",
       "      <td>tt0000004</td>\n",
       "      <td>5.6</td>\n",
       "      <td>169</td>\n",
       "    </tr>\n",
       "    <tr>\n",
       "      <th>4</th>\n",
       "      <td>tt0000005</td>\n",
       "      <td>6.2</td>\n",
       "      <td>2527</td>\n",
       "    </tr>\n",
       "  </tbody>\n",
       "</table>\n",
       "</div>"
      ],
      "text/plain": [
       "      tconst  averageRating  numVotes\n",
       "0  tt0000001            5.7      1910\n",
       "1  tt0000002            5.8       256\n",
       "2  tt0000003            6.5      1714\n",
       "3  tt0000004            5.6       169\n",
       "4  tt0000005            6.2      2527"
      ]
     },
     "execution_count": 83,
     "metadata": {},
     "output_type": "execute_result"
    }
   ],
   "source": [
    "ratings_df.head()"
   ]
  },
  {
   "cell_type": "markdown",
   "id": "01894e8c-ff1d-4ac3-90a9-c2ecbbeba6ed",
   "metadata": {},
   "source": [
    "## Replace '/N'"
   ]
  },
  {
   "cell_type": "code",
   "execution_count": 84,
   "id": "f2d0e562-1504-4eb8-b284-4045a02df51c",
   "metadata": {},
   "outputs": [],
   "source": [
    "ratings_df.replace({'\\\\N':np.nan}, inplace=True)"
   ]
  },
  {
   "cell_type": "markdown",
   "id": "ba39a432-cb4b-4cb3-b747-7f90c1698f8e",
   "metadata": {
    "tags": []
   },
   "source": [
    "## Keep only US movies"
   ]
  },
  {
   "cell_type": "code",
   "execution_count": 85,
   "id": "7f334976-4a9e-4c53-8a62-9d86802a9b57",
   "metadata": {},
   "outputs": [],
   "source": [
    "# Filter the basics table down to only include the US by using the filter akas dataframe\n",
    "keep =ratings_df['tconst'].isin(akas_df['titleId'])\n",
    "ratings_df = ratings_df[keep]"
   ]
  },
  {
   "cell_type": "markdown",
   "id": "75e5d948-dbb1-4eb1-9fde-f5e91a774db4",
   "metadata": {},
   "source": [
    "# Final info and saving"
   ]
  },
  {
   "cell_type": "code",
   "execution_count": 86,
   "id": "bf9543f2-7d10-49cc-8635-33849c31099e",
   "metadata": {},
   "outputs": [
    {
     "name": "stdout",
     "output_type": "stream",
     "text": [
      "<class 'pandas.core.frame.DataFrame'>\n",
      "Int64Index: 82481 entries, 34792 to 9226165\n",
      "Data columns (total 9 columns):\n",
      " #   Column          Non-Null Count  Dtype  \n",
      "---  ------          --------------  -----  \n",
      " 0   tconst          82481 non-null  object \n",
      " 1   titleType       82481 non-null  object \n",
      " 2   primaryTitle    82481 non-null  object \n",
      " 3   originalTitle   82481 non-null  object \n",
      " 4   isAdult         82481 non-null  object \n",
      " 5   startYear       82481 non-null  float64\n",
      " 6   endYear         0 non-null      object \n",
      " 7   runtimeMinutes  82481 non-null  object \n",
      " 8   genres          82481 non-null  object \n",
      "dtypes: float64(1), object(8)\n",
      "memory usage: 6.3+ MB\n"
     ]
    }
   ],
   "source": [
    "basics_df.info()"
   ]
  },
  {
   "cell_type": "code",
   "execution_count": 87,
   "id": "42ed29e5-d9a3-4fd0-a22e-a85b2a62cf3a",
   "metadata": {},
   "outputs": [
    {
     "name": "stdout",
     "output_type": "stream",
     "text": [
      "<class 'pandas.core.frame.DataFrame'>\n",
      "Int64Index: 1348981 entries, 5 to 33183256\n",
      "Data columns (total 8 columns):\n",
      " #   Column           Non-Null Count    Dtype \n",
      "---  ------           --------------    ----- \n",
      " 0   titleId          1348981 non-null  object\n",
      " 1   ordering         1348981 non-null  int64 \n",
      " 2   title            1348981 non-null  object\n",
      " 3   region           1348981 non-null  object\n",
      " 4   language         3700 non-null     object\n",
      " 5   types            963986 non-null   object\n",
      " 6   attributes       44956 non-null    object\n",
      " 7   isOriginalTitle  1347606 non-null  object\n",
      "dtypes: int64(1), object(7)\n",
      "memory usage: 92.6+ MB\n"
     ]
    }
   ],
   "source": [
    "akas_df.info()"
   ]
  },
  {
   "cell_type": "code",
   "execution_count": 88,
   "id": "0948dd83-36b7-4880-af16-64c275f57078",
   "metadata": {},
   "outputs": [
    {
     "name": "stdout",
     "output_type": "stream",
     "text": [
      "<class 'pandas.core.frame.DataFrame'>\n",
      "Int64Index: 476304 entries, 0 to 1260758\n",
      "Data columns (total 3 columns):\n",
      " #   Column         Non-Null Count   Dtype  \n",
      "---  ------         --------------   -----  \n",
      " 0   tconst         476304 non-null  object \n",
      " 1   averageRating  476304 non-null  float64\n",
      " 2   numVotes       476304 non-null  int64  \n",
      "dtypes: float64(1), int64(1), object(1)\n",
      "memory usage: 14.5+ MB\n"
     ]
    }
   ],
   "source": [
    "ratings_df.info()"
   ]
  },
  {
   "cell_type": "code",
   "execution_count": 92,
   "id": "bde0a3be-a198-4a43-b493-43cb3632a227",
   "metadata": {},
   "outputs": [],
   "source": [
    "basics_df.to_csv('basics.csv.gz')"
   ]
  },
  {
   "cell_type": "code",
   "execution_count": 93,
   "id": "e18927a1-5e63-4f88-8ec4-35b86918a010",
   "metadata": {},
   "outputs": [],
   "source": [
    "akas_df.to_csv('akas.csv.gz')"
   ]
  },
  {
   "cell_type": "code",
   "execution_count": 94,
   "id": "5a4f5141-d1b1-4b9c-aa67-98b774ae115b",
   "metadata": {},
   "outputs": [],
   "source": [
    "ratings_df.to_csv('ratings.csv.gz')"
   ]
  },
  {
   "cell_type": "code",
   "execution_count": null,
   "id": "81c04a0d-b52a-4017-a7c9-730e67fc8f0c",
   "metadata": {},
   "outputs": [],
   "source": []
  }
 ],
 "metadata": {
  "kernelspec": {
   "display_name": "Python (dojo-env)",
   "language": "python",
   "name": "dojo-env"
  },
  "language_info": {
   "codemirror_mode": {
    "name": "ipython",
    "version": 3
   },
   "file_extension": ".py",
   "mimetype": "text/x-python",
   "name": "python",
   "nbconvert_exporter": "python",
   "pygments_lexer": "ipython3",
   "version": "3.8.8"
  }
 },
 "nbformat": 4,
 "nbformat_minor": 5
}
